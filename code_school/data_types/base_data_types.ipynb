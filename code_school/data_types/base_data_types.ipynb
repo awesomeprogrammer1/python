{
 "cells": [
  {
   "cell_type": "markdown",
   "metadata": {},
   "source": [
    "String data type:"
   ]
  },
  {
   "cell_type": "markdown",
   "metadata": {},
   "source": [
    "Strings are immutable, so we need to assign the string operation to a new variable, so that we can reuse it. Example below.\n",
    "Note: when we are using the print() function, we do not need to assign the string operation to a variable."
   ]
  },
  {
   "cell_type": "code",
   "execution_count": 12,
   "metadata": {},
   "outputs": [
    {
     "name": "stdout",
     "output_type": "stream",
     "text": [
      "Hello, World!\n",
      "HELLO, USER\n"
     ]
    }
   ],
   "source": [
    "# example where we do not need to use a variable\n",
    "print(\"Hello, World!\")\n",
    "# example where we need to use a variable\n",
    "string_var: str = \"Hello, User\"\n",
    "string_var_capitolized = string_var.upper()\n",
    "print(string_var_capitolized)"
   ]
  },
  {
   "cell_type": "markdown",
   "metadata": {},
   "source": [
    "Strings are ordered alphabetically when using letters, and numbers are sorted numerically."
   ]
  },
  {
   "cell_type": "markdown",
   "metadata": {},
   "source": [
    "Why do we need strings in python?\n",
    "\n",
    "Python does not have a character data type.\n",
    "A single character in python is a string with a length of 1.\n",
    "So we need strings so that we can save arrays of bytes of unicode characters. \n",
    "Strings are useful when communicating information from the program to the user of the program.\n"
   ]
  },
  {
   "cell_type": "markdown",
   "metadata": {},
   "source": [
    "How are strings used in python?\n",
    "\n",
    "Strings are used to handle textual data\n",
    "Below are some examples of the main operations we can do with strings"
   ]
  },
  {
   "cell_type": "code",
   "execution_count": 30,
   "metadata": {},
   "outputs": [
    {
     "name": "stdout",
     "output_type": "stream",
     "text": [
      "35\n",
      "2\n",
      "HI, I REALLY LOVE CODING IN PYTHON!\n",
      "hi, i really love coding in python!\n",
      "pizza\n"
     ]
    }
   ],
   "source": [
    "# len() function gets the amount of characters in the string (including spaces)\n",
    "random_string = \"Hi, I really love coding in python!\"\n",
    "print(len(random_string))\n",
    "# count() function gets the # of times a certain\n",
    "# character or characters were repeated\n",
    "print(random_string.count(\"e\"))\n",
    "# upper() and lower() respectivly make the string uppercase or lowercase\n",
    "print(random_string.upper())\n",
    "print(random_string.lower())\n",
    "# strip() function creates a copy of the string\n",
    "# which removes certain character(s) and then returns it\n",
    "random_string2 = \",,,rrrqqqddd...pizza.rr\"\n",
    "strip_string = random_string2.strip(\",.dqr\")\n",
    "print(strip_string)"
   ]
  },
  {
   "cell_type": "markdown",
   "metadata": {},
   "source": [
    "CRD - Create, Read, Delete\n",
    "Here are examples of all three things with strings"
   ]
  },
  {
   "cell_type": "code",
   "execution_count": 56,
   "metadata": {},
   "outputs": [
    {
     "name": "stdout",
     "output_type": "stream",
     "text": [
      "Hi, I am a python programmer\n",
      ".\n"
     ]
    }
   ],
   "source": [
    "# Create\n",
    "new_string = \"Hi, I am a python programmer\"\n",
    "# Read\n",
    "print(new_string)\n",
    "# Delete\n",
    "removed_string = new_string.replace(\"Hi, I am a python programmer\", \".\")\n",
    "print(removed_string)\n"
   ]
  },
  {
   "cell_type": "code",
   "execution_count": 55,
   "metadata": {},
   "outputs": [
    {
     "name": "stdout",
     "output_type": "stream",
     "text": [
      "H e l l o ,   I   a m   a   p r o g r a m m e r\n"
     ]
    }
   ],
   "source": [
    "# Another interesting string method\n",
    "# adds any character(s) inbetween the seperation between\n",
    "# 2 charcters in the existing string\n",
    "new_string2 = \"Hello, I am a programmer\"\n",
    "add_to_string = \" \".join(new_string2)\n",
    "print(add_to_string)"
   ]
  },
  {
   "cell_type": "markdown",
   "metadata": {},
   "source": [
    "Int data type"
   ]
  },
  {
   "cell_type": "markdown",
   "metadata": {},
   "source": [
    "Integers are mutable in python, we can change them directly"
   ]
  },
  {
   "cell_type": "markdown",
   "metadata": {},
   "source": [
    "Integers are ordered numerically"
   ]
  },
  {
   "cell_type": "markdown",
   "metadata": {},
   "source": [
    "We need integers in python in order to handle operations with numbers. Here are some examples"
   ]
  },
  {
   "cell_type": "code",
   "execution_count": 8,
   "metadata": {},
   "outputs": [
    {
     "name": "stdout",
     "output_type": "stream",
     "text": [
      "[0, 2, 4, 6, 8, 10, 12, 14, 16, 18, 20, 22, 24, 26, 28, 30, 32, 34, 36, 38, 40, 42, 44, 46, 48, 50, 52, 54, 56, 58, 60, 62, 64, 66, 68, 70, 72, 74, 76, 78, 80, 82, 84, 86, 88, 90, 92, 94, 96, 98, 100]\n",
      "0\n",
      "2\n",
      "4\n",
      "6\n",
      "8\n",
      "10\n",
      "12\n",
      "14\n",
      "16\n",
      "18\n",
      "20\n",
      "22\n",
      "24\n",
      "26\n",
      "28\n",
      "30\n",
      "32\n",
      "34\n",
      "36\n",
      "38\n",
      "40\n",
      "42\n",
      "44\n",
      "46\n",
      "48\n",
      "0\n",
      "0\n",
      "0\n",
      "0\n",
      "0\n",
      "0\n",
      "0\n",
      "0\n",
      "0\n",
      "0\n",
      "0\n",
      "0\n",
      "0\n",
      "0\n",
      "0\n",
      "0\n",
      "0\n",
      "0\n",
      "0\n",
      "0\n",
      "0\n",
      "0\n",
      "0\n",
      "0\n",
      "0\n",
      "0\n"
     ]
    }
   ],
   "source": [
    "even_numbers = []\n",
    "\n",
    "for i in range(101):\n",
    "    if i % 2 == 0:\n",
    "        even_numbers.append(i)\n",
    "print(even_numbers)\n",
    "\n",
    "for number in even_numbers:\n",
    "    if number < 50:\n",
    "        print(number)\n",
    "    else:\n",
    "        print(number-number)\n",
    "    \n"
   ]
  },
  {
   "cell_type": "markdown",
   "metadata": {},
   "source": [
    "CRD acronym:\n",
    "Create Read Delete"
   ]
  },
  {
   "cell_type": "code",
   "execution_count": 59,
   "metadata": {},
   "outputs": [
    {
     "name": "stdout",
     "output_type": "stream",
     "text": [
      "5\n",
      "135\n",
      "0\n"
     ]
    }
   ],
   "source": [
    "# create\n",
    "base_int = 5\n",
    "# read\n",
    "print(base_int)\n",
    "# delete\n",
    "base_int -= base_int\n",
    "print(base_int)"
   ]
  },
  {
   "cell_type": "markdown",
   "metadata": {},
   "source": [
    "Interesting things we can do with int"
   ]
  },
  {
   "cell_type": "code",
   "execution_count": 64,
   "metadata": {},
   "outputs": [
    {
     "name": "stdout",
     "output_type": "stream",
     "text": [
      "4\n",
      "21\n",
      "32\n"
     ]
    }
   ],
   "source": [
    "# % gets the remainder\n",
    "print(54 % 5)\n",
    "# // divides the number and rounds it to the nearest whole number\n",
    "print(64 // 3)\n",
    "# ** is the same as ^, exponentiates the number\n",
    "print(2**5)\n",
    "\n",
    "# heres a big but fairly interesting piece of code\n",
    "number = 82\n",
    "\n",
    "for i in range(5):\n",
    "    guess_number = int(input(\"Guess a number 1-100. You have five attempts: \"))\n",
    "    if guess_number != number:\n",
    "        if guess_number < number:\n",
    "            print(\"Incorrect! Try guessing a higher number next time! \")\n",
    "        if guess_number > number:\n",
    "            print(\"Incorrect! Try guessing a lower number next time\")\n",
    "    else:\n",
    "        print(\"Correct!\")\n",
    "        exit()\n",
    "else:\n",
    "    print(\"You are out of attempts\")"
   ]
  },
  {
   "cell_type": "markdown",
   "metadata": {},
   "source": [
    "Float data type:\n",
    "\n",
    "Floats is similar to int, but instead it handles numbers with decimal points, such as 1.3"
   ]
  },
  {
   "cell_type": "markdown",
   "metadata": {},
   "source": [
    "Float is immutable"
   ]
  },
  {
   "cell_type": "markdown",
   "metadata": {},
   "source": [
    "Float is ordered numerically, just like int."
   ]
  },
  {
   "cell_type": "markdown",
   "metadata": {},
   "source": [
    "Similarly to int, we need float to handle operations with numbers. However, float is also used for time purposes, as the decimal number is used to convey seconds.\n",
    "Here are the main operations that we can do with floats"
   ]
  },
  {
   "cell_type": "code",
   "execution_count": 23,
   "metadata": {},
   "outputs": [
    {
     "name": "stdout",
     "output_type": "stream",
     "text": [
      "1664296338.4178395\n",
      "time.struct_time(tm_year=2022, tm_mon=9, tm_mday=27, tm_hour=16, tm_min=32, tm_sec=18, tm_wday=1, tm_yday=270, tm_isdst=0)\n"
     ]
    }
   ],
   "source": [
    "import time\n",
    "# epoch is Janurary 1, 1970, 00:00:00 UTC Time, this is where time begins for Unix systems\n",
    "seconds_past_epoch: float = time.time()\n",
    "print(seconds_past_epoch)\n",
    "time_now = time.gmtime(seconds_past_epoch)\n",
    "print(time_now)\n"
   ]
  },
  {
   "cell_type": "markdown",
   "metadata": {},
   "source": [
    "CRD- Create Read Delete\n"
   ]
  },
  {
   "cell_type": "code",
   "execution_count": 24,
   "metadata": {},
   "outputs": [
    {
     "name": "stdout",
     "output_type": "stream",
     "text": [
      "1664296439.9140718\n",
      "0.0\n"
     ]
    }
   ],
   "source": [
    "# create\n",
    "random_float = time.time()\n",
    "# read\n",
    "print(random_float)\n",
    "# delete\n",
    "random_float -= random_float\n",
    "print(random_float)\n"
   ]
  },
  {
   "cell_type": "markdown",
   "metadata": {},
   "source": [
    "List and tuple data type:\n",
    "Lists are used to hold multiple items in a single variable. This data type is mutable, and ordered via indexes. \n",
    "\n",
    "We need lists to store multiple items of data in a single variable\n",
    "We can use indexes, starting from 0, to access certain parts of the list\n",
    "Example:"
   ]
  },
  {
   "cell_type": "code",
   "execution_count": 27,
   "metadata": {},
   "outputs": [
    {
     "name": "stdout",
     "output_type": "stream",
     "text": [
      "I\n"
     ]
    }
   ],
   "source": [
    "random_list = [\"I\", \"A\", \"R\"]\n",
    "print(random_list[0])"
   ]
  },
  {
   "cell_type": "markdown",
   "metadata": {},
   "source": [
    "Lets also look at a few more common operations we can do with this data type"
   ]
  },
  {
   "cell_type": "code",
   "execution_count": 30,
   "metadata": {},
   "outputs": [
    {
     "name": "stdout",
     "output_type": "stream",
     "text": [
      "['cat', 'dog', 'horse', 'frog', 'hamster']\n",
      "Found\n"
     ]
    }
   ],
   "source": [
    "alphabet = \"abcdefghijklmnopqrstuvwxyz\"\n",
    "list_var = []\n",
    "for element in alphabet:\n",
    "    list_var.append(element)\n",
    "\"!\".join(list_var)\n",
    "\n",
    "animals = [\"cat\", \"dog\", \"horse\", \"frog\", \"hamster\"]\n",
    "print(animals)\n",
    "for i in range(len(animals)):\n",
    "    while i < 4:\n",
    "        print( \"is not the last element\")\n",
    "    print(\"This is the last element\")\n",
    "\n",
    "\n",
    "\n"
   ]
  },
  {
   "cell_type": "markdown",
   "metadata": {},
   "source": [
    "CRUD (Create Read Update Delete)"
   ]
  },
  {
   "cell_type": "code",
   "execution_count": 26,
   "metadata": {},
   "outputs": [
    {
     "name": "stdout",
     "output_type": "stream",
     "text": [
      "['apple']\n",
      "['apple', 'orange']\n",
      "['orange']\n"
     ]
    }
   ],
   "source": [
    "# create\n",
    "new_list = [\"apple\"]\n",
    "# read\n",
    "print(new_list)\n",
    "# update\n",
    "new_list.append(\"orange\")\n",
    "print(new_list)\n",
    "# delete\n",
    "new_list.remove(\"apple\")\n",
    "print(new_list)"
   ]
  },
  {
   "cell_type": "markdown",
   "metadata": {},
   "source": [
    "Interesting string methods"
   ]
  },
  {
   "cell_type": "code",
   "execution_count": 4,
   "metadata": {},
   "outputs": [
    {
     "name": "stdout",
     "output_type": "stream",
     "text": [
      "['hedgehog', 'shark', 'mouse', 'tiger']\n",
      "['Pineapple', 'hedgehog']\n",
      "['Pineapple', 'hedgehog', 'shark', 'mouse', 'tiger', 'doofus']\n",
      "['Pineapple', 'hedgehog', 'shark', 'mouse', 'tiger']\n"
     ]
    }
   ],
   "source": [
    "# Slicing lists\n",
    "list_var2 = [\"Pineapple\", \"hedgehog\", \"shark\", \"mouse\", \"tiger\"]\n",
    "print(list_var2[1:])\n",
    "# we can also do\n",
    "print(list_var2[:2])\n",
    "# another cool method is .append() and .pop()\n",
    "# sergei gave me the below example\n",
    "# append adds something to the end of the list\n",
    "list_var2.append(\"doofus\")\n",
    "print(list_var2)\n",
    "\n",
    "list_var2.pop(5)\n",
    "print(list_var2)"
   ]
  },
  {
   "cell_type": "markdown",
   "metadata": {},
   "source": [
    "bool data type:\n",
    "\n",
    "Bool is immutable\n",
    "It is not ordered\n",
    "Bool returns a boolean value, or in other words True/False, depending on a certain condition. Here is an example below:"
   ]
  },
  {
   "cell_type": "code",
   "execution_count": 2,
   "metadata": {},
   "outputs": [
    {
     "name": "stdout",
     "output_type": "stream",
     "text": [
      "True\n"
     ]
    }
   ],
   "source": [
    "random_number = 3\n",
    "if 3 == random_number:\n",
    "    print(True)\n",
    "else:\n",
    "    print(False)"
   ]
  },
  {
   "cell_type": "markdown",
   "metadata": {},
   "source": [
    "We need boolean values in order to handle conditions. We can use it as such:\n",
    "Here are the operations we use with booleans"
   ]
  },
  {
   "cell_type": "code",
   "execution_count": 3,
   "metadata": {},
   "outputs": [
    {
     "name": "stdout",
     "output_type": "stream",
     "text": [
      "True\n"
     ]
    }
   ],
   "source": [
    "sentence = \"I like to think that I like a lot of things\"\n",
    "if sentence.count(\"i\") > 2:\n",
    "    print(True)\n",
    "else:\n",
    "    print(False)\n",
    "\n",
    "\n",
    "random_guess = input(\"Input a word \")\n",
    "random_guess2 = input(\"Input another word \")\n",
    "if random_guess == random_guess2:\n",
    "    print(True)\n",
    "else:\n",
    "    print(False)\n",
    "\n",
    "    "
   ]
  },
  {
   "cell_type": "markdown",
   "metadata": {},
   "source": [
    "CRD with booleans and their examples"
   ]
  },
  {
   "cell_type": "code",
   "execution_count": 4,
   "metadata": {},
   "outputs": [
    {
     "name": "stdout",
     "output_type": "stream",
     "text": [
      "True\n",
      "False\n"
     ]
    }
   ],
   "source": [
    "# create\n",
    "bool_var = bool(\"Hello\")\n",
    "# read\n",
    "print(bool_var)\n",
    "# delete\n",
    "\"n/a\""
   ]
  },
  {
   "cell_type": "markdown",
   "metadata": {},
   "source": [
    "Python dict data type:\n",
    "the dict data type is used to store values in a key:value pair\n",
    "dictionaries are mutable\n",
    "dictionaries are ordered as of python version 3.7\n",
    "\n",
    "Dictionaries are useful for where we want to store two parts of data associated with each other\n",
    "For example, if I was to create a list of my contacts, it would be much more convenient to have\n",
    "the information (name and phone number in this case) be a pair, and not seperate, as if we were using a list\n",
    "Using dict: we can have the data already like this:\n",
    "{name: phone #}\n",
    "If we had a list like:\n",
    "[\"name\" , \"phone number\"] it would be more work to manually join them together\n",
    "However, we can convert these two list values to a key-value pair using their indexes.\n",
    "Lets look at some basic dict operations\n"
   ]
  },
  {
   "cell_type": "code",
   "execution_count": 30,
   "metadata": {},
   "outputs": [
    {
     "name": "stdout",
     "output_type": "stream",
     "text": [
      "dict_keys(['Hello', 'Car', 'Dog'])\n",
      "{'Car': 'Automobile', 'Dog': 'Cat'}\n",
      "{'Car': 'Automobile', 'Dog': 'Cat', 'Plane': 'Train'}\n",
      "{}\n"
     ]
    }
   ],
   "source": [
    "dict_var = {\"Hello\": \"Hi\", \"Car\": \"Automobile\", \"Dog\": \"Cat\"}\n",
    "# returns list w/ dict keys\n",
    "print(dict_var.keys())\n",
    "# remove a key-value pair\n",
    "dict_var.pop(\"Hello\")\n",
    "print(dict_var)\n",
    "# add new key-value pair\n",
    "dict_var[\"Plane\"] = \"Train\"\n",
    "print(dict_var)\n",
    "# clear dict of all items\n",
    "dict_var.clear()\n",
    "print(dict_var)\n",
    " "
   ]
  },
  {
   "cell_type": "markdown",
   "metadata": {},
   "source": [
    "Create Read Update Delete"
   ]
  },
  {
   "cell_type": "code",
   "execution_count": 31,
   "metadata": {},
   "outputs": [
    {
     "name": "stdout",
     "output_type": "stream",
     "text": [
      "{}\n",
      "{'Hi': 'Hello'}\n",
      "{}\n"
     ]
    }
   ],
   "source": [
    "# create:\n",
    "new_dict = {}\n",
    "# read\n",
    "print(new_dict)\n",
    "# update\n",
    "new_dict[\"Hi\"] = \"Hello\"\n",
    "print(new_dict)\n",
    "# delete\n",
    "new_dict.pop(\"Hi\")\n",
    "print(new_dict)"
   ]
  },
  {
   "cell_type": "markdown",
   "metadata": {},
   "source": [
    "tuple data type:\n",
    "tuples are similar to lists as they are ordered\n",
    "however, they are immutable, so once a tuple is created\n",
    "it can't be changed\n",
    "\n",
    "Tuples are used to store multiple items in a single variable, however unlike lists, if you have\n",
    "data that should not be changed upon creation, you should use tuples. They are used with () brackets\n",
    "and have similar actions to lists\n",
    "\n",
    "\n",
    "Lets look at what we can do with tuples, note that they are indexed"
   ]
  },
  {
   "cell_type": "code",
   "execution_count": 34,
   "metadata": {},
   "outputs": [
    {
     "name": "stdout",
     "output_type": "stream",
     "text": [
      "I\n",
      "3\n",
      "1\n",
      "2\n"
     ]
    }
   ],
   "source": [
    "random_tuple = (\"I\", \"A\", \"R\")\n",
    "print(random_tuple[0])\n",
    "\n",
    "# we can't change tuples after they are created\n",
    "# we can do some things however\n",
    "\n",
    "print(len(random_tuple))\n",
    "print(random_tuple.count(\"I\"))\n",
    "print(random_tuple.index(\"R\"))"
   ]
  },
  {
   "cell_type": "markdown",
   "metadata": {},
   "source": [
    "CR (Create + Read only b/c we can't update or delete a tuple)\n"
   ]
  },
  {
   "cell_type": "code",
   "execution_count": null,
   "metadata": {},
   "outputs": [],
   "source": [
    "# Create\n",
    "example_tuple = (\"Hello\", \"Hi\", \"Hey\")\n",
    "# read\n",
    "print(example_tuple)\n",
    "# update\n",
    "\"n/a\"\n",
    "# delete\n",
    "\"n/a\""
   ]
  },
  {
   "cell_type": "markdown",
   "metadata": {},
   "source": [
    "Set + Frozenset data types\n",
    "\n",
    "Set and frozenset are basically identical but like lists and tuples one is mutable and once is immutable\n",
    "\n",
    "There is little to add to the topic of frozenset as all that we can really do with them is create them and print them. So lets put a bit more\n",
    "Stress on the set data type as that will sort of sync up with the frozenset data type"
   ]
  },
  {
   "cell_type": "markdown",
   "metadata": {},
   "source": [
    "Sets are iterable but not ordered unless you supply one. So we can't work with indexes here.\n",
    "So then, why do we need this data type, and if we do need it, what are some cases we can use it in?\n",
    "Note that to create an empty set we need to use set(), as {} will create an empty dictionary\n",
    "Sets are used because their structure is better in the case if we need to find if a particular item\n",
    "is part of a set than part of a list\n",
    "Lets create a new set and talk about how they are used, and some common operations performed on them.\n"
   ]
  },
  {
   "cell_type": "code",
   "execution_count": 37,
   "metadata": {},
   "outputs": [
    {
     "name": "stdout",
     "output_type": "stream",
     "text": [
      "True\n",
      "{1, 2, 3, 4, 5, 6, 7, 8}\n",
      "{2, 3, 4, 6, 7, 8}\n"
     ]
    }
   ],
   "source": [
    "new_set = {1,2,3,4,5,6,7}\n",
    "# sets can not have duplicate elements\n",
    "print(3 in new_set)\n",
    "# above line returns a boolean value\n",
    "new_set.add(8)\n",
    "print(new_set)\n",
    "new_set.discard(5)\n",
    "new_set.pop()\n",
    "print(new_set)\n",
    "new_set.clear()\n",
    "print(new_set)"
   ]
  },
  {
   "cell_type": "code",
   "execution_count": 39,
   "metadata": {},
   "outputs": [
    {
     "name": "stdout",
     "output_type": "stream",
     "text": [
      "{1, 2, 3}\n",
      "{1, 2, 3, 4}\n",
      "{2, 3, 4}\n"
     ]
    }
   ],
   "source": [
    "# CRUD for sets\n",
    "#Create\n",
    "new_set = {1,2,3}\n",
    "# read\n",
    "print(new_set)\n",
    "# update\n",
    "new_set.add(4)\n",
    "print(new_set)\n",
    "# delete\n",
    "new_set.pop()\n",
    "print(new_set)\n"
   ]
  },
  {
   "cell_type": "markdown",
   "metadata": {},
   "source": [
    "Heres a cool method we can use"
   ]
  },
  {
   "cell_type": "code",
   "execution_count": 47,
   "metadata": {},
   "outputs": [
    {
     "name": "stdout",
     "output_type": "stream",
     "text": [
      "True\n"
     ]
    }
   ],
   "source": [
    "# this following method returns true/false depending\n",
    "# if items in set y are present in set x\n",
    "x = {1,2,3,4,5}\n",
    "y = {3,2,4}\n",
    "\n",
    "is_super_set = x.issuperset(y)\n",
    "print(is_super_set)\n"
   ]
  }
 ],
 "metadata": {
  "kernelspec": {
   "display_name": "Python 3.7.9 64-bit",
   "language": "python",
   "name": "python3"
  },
  "language_info": {
   "codemirror_mode": {
    "name": "ipython",
    "version": 3
   },
   "file_extension": ".py",
   "mimetype": "text/x-python",
   "name": "python",
   "nbconvert_exporter": "python",
   "pygments_lexer": "ipython3",
   "version": "3.7.9"
  },
  "orig_nbformat": 4,
  "vscode": {
   "interpreter": {
    "hash": "8fa13260b2ad5da8a92d4362f230c03eee7b3dfd5b47a73cfd4853277a201fcb"
   }
  }
 },
 "nbformat": 4,
 "nbformat_minor": 2
}
