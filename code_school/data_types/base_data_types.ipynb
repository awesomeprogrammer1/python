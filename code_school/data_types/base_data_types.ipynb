{
 "cells": [
  {
   "cell_type": "markdown",
   "metadata": {},
   "source": [
    "String data type:"
   ]
  },
  {
   "cell_type": "markdown",
   "metadata": {},
   "source": [
    "Strings are used to hold certain sequences of characters"
   ]
  },
  {
   "cell_type": "code",
   "execution_count": null,
   "metadata": {},
   "outputs": [],
   "source": [
    "print(\"Hello, World!\")"
   ]
  },
  {
   "cell_type": "markdown",
   "metadata": {},
   "source": [
    "We can assign a string to a variable"
   ]
  },
  {
   "cell_type": "code",
   "execution_count": 32,
   "metadata": {},
   "outputs": [
    {
     "name": "stdout",
     "output_type": "stream",
     "text": [
      "Hello, World!\n"
     ]
    }
   ],
   "source": [
    "hello = \"Hello, World!\"\n",
    "print(hello)"
   ]
  },
  {
   "cell_type": "markdown",
   "metadata": {},
   "source": [
    "Strings are immutable (can't be changed after they are created) in python, so in order to perform operations on them we need to assign the string and the operation we are performing on it to a variable, or in other words, create a copy of the string and then perform the operation on it. Example:"
   ]
  },
  {
   "cell_type": "code",
   "execution_count": 1,
   "metadata": {},
   "outputs": [
    {
     "name": "stdout",
     "output_type": "stream",
     "text": [
      "I LOVE CODING!\n"
     ]
    }
   ],
   "source": [
    "string_var = \"I love coding!\"\n",
    "capitolize_string = string_var.upper()\n",
    "print(capitolize_string)"
   ]
  },
  {
   "cell_type": "markdown",
   "metadata": {},
   "source": [
    "Above is a method we can use on a string. But what kind of functions can we use on a string? Lets take a look at a very well known one, the len() function. This function will return the amount of characters in the string. (Note: when using the len() function, a space is counted as a character)"
   ]
  },
  {
   "cell_type": "code",
   "execution_count": 3,
   "metadata": {},
   "outputs": [
    {
     "name": "stdout",
     "output_type": "stream",
     "text": [
      "35\n"
     ]
    }
   ],
   "source": [
    "random_string = \"Hi, I really love coding in python!\"\n",
    "print(len(random_string))"
   ]
  },
  {
   "cell_type": "markdown",
   "metadata": {},
   "source": [
    "Int data type"
   ]
  },
  {
   "cell_type": "markdown",
   "metadata": {},
   "source": [
    "The int, or integer data type, is basically self explainitory. It is used to handle numbers, typically used for performing operations on values."
   ]
  },
  {
   "cell_type": "code",
   "execution_count": 4,
   "metadata": {},
   "outputs": [
    {
     "name": "stdout",
     "output_type": "stream",
     "text": [
      "6\n",
      "12\n"
     ]
    }
   ],
   "source": [
    "base_int = 3\n",
    "base_int_plus = base_int+3\n",
    "print(base_int_plus)\n",
    "#we can also do something like this\n",
    "base_int_2 = 5\n",
    "base_int_2 += 7\n",
    "print(base_int_2)\n",
    "#\n",
    "number_var = 5555\n",
    "\n"
   ]
  },
  {
   "cell_type": "markdown",
   "metadata": {},
   "source": [
    "Note that integer handles only whole numbers, numbers with decimals will be talked about in the next data type."
   ]
  },
  {
   "cell_type": "markdown",
   "metadata": {},
   "source": [
    "Float data type:"
   ]
  },
  {
   "cell_type": "markdown",
   "metadata": {},
   "source": [
    "A float is like an integer except it handles numbers with decimals. Float is mostly used for stuff like time purposes, or seconds. Here we are going to get a random amount of seconds past the EPOCH"
   ]
  },
  {
   "cell_type": "code",
   "execution_count": 13,
   "metadata": {},
   "outputs": [
    {
     "name": "stdout",
     "output_type": "stream",
     "text": [
      "1664030073.6581326\n"
     ]
    }
   ],
   "source": [
    "import time\n",
    "seconds_past_EPOCH: float = time.time()\n",
    "print(seconds_past_EPOCH)"
   ]
  },
  {
   "cell_type": "code",
   "execution_count": 14,
   "metadata": {},
   "outputs": [
    {
     "name": "stdout",
     "output_type": "stream",
     "text": [
      "1178.3\n"
     ]
    }
   ],
   "source": [
    "seconds = 234.5 + 943.8\n",
    "print(seconds)"
   ]
  },
  {
   "cell_type": "markdown",
   "metadata": {},
   "source": [
    "List data type"
   ]
  },
  {
   "cell_type": "markdown",
   "metadata": {},
   "source": [
    "We use lists to hold a certain array of objects, which we can perform operations on directly. We also have indexes of lists, starting from zero. Below is an example on how we use indexes in lists to add/remove elements"
   ]
  },
  {
   "cell_type": "code",
   "execution_count": 1,
   "metadata": {},
   "outputs": [
    {
     "name": "stdout",
     "output_type": "stream",
     "text": [
      "['apple', 'banana', 'cherry', 'orange']\n",
      "['apple', 'banana', 'orange']\n",
      "['apple', 'orange']\n"
     ]
    }
   ],
   "source": [
    "list_var = [\"apple\", \"banana\", \"cherry\"]\n",
    "list_var.append(\"orange\")\n",
    "print(list_var)\n",
    "list_var.pop(2)\n",
    "print(list_var)\n",
    "list_var.remove(\"banana\")\n",
    "print(list_var)"
   ]
  },
  {
   "cell_type": "markdown",
   "metadata": {},
   "source": [
    "Bool data type"
   ]
  },
  {
   "cell_type": "markdown",
   "metadata": {},
   "source": [
    "A bool, or boolean data type is a true/false data type. Here is how it is used"
   ]
  },
  {
   "cell_type": "code",
   "execution_count": 23,
   "metadata": {},
   "outputs": [
    {
     "name": "stdout",
     "output_type": "stream",
     "text": [
      "True\n"
     ]
    }
   ],
   "source": [
    "number = 12\n",
    "guess = int(input(\"guess my number \"))\n",
    "if guess == 12:\n",
    "    print(True)\n",
    "else:\n",
    "    print(False)"
   ]
  },
  {
   "cell_type": "markdown",
   "metadata": {},
   "source": [
    "Tuple datatype"
   ]
  },
  {
   "cell_type": "markdown",
   "metadata": {},
   "source": [
    "Tuples are ordered collections of data that like lists have an index, but can't be directly changed."
   ]
  },
  {
   "cell_type": "code",
   "execution_count": 24,
   "metadata": {},
   "outputs": [
    {
     "name": "stdout",
     "output_type": "stream",
     "text": [
      "('apple', 'banana', 'cherry')\n",
      "apple\n"
     ]
    }
   ],
   "source": [
    "tuple_var = (\"apple\", \"banana\", \"cherry\")\n",
    "print(tuple_var)\n",
    "tuple_copy = tuple_var[0]\n",
    "print(tuple_copy)"
   ]
  },
  {
   "cell_type": "markdown",
   "metadata": {},
   "source": [
    "Dict datatype"
   ]
  },
  {
   "cell_type": "markdown",
   "metadata": {},
   "source": [
    "Dictionaries are places where we store key-value pairs of certain objects. This is the basic way we use a dictionary."
   ]
  },
  {
   "cell_type": "code",
   "execution_count": 25,
   "metadata": {},
   "outputs": [
    {
     "name": "stdout",
     "output_type": "stream",
     "text": [
      "{'Andrew': 'Me'}\n",
      "Me\n"
     ]
    }
   ],
   "source": [
    "dict_var = {}\n",
    "dict_var[\"Andrew\"] = \"Me\"\n",
    "print(dict_var)\n",
    "print(dict_var[\"Andrew\"])"
   ]
  },
  {
   "cell_type": "markdown",
   "metadata": {},
   "source": [
    "set and frozenset data types"
   ]
  },
  {
   "cell_type": "markdown",
   "metadata": {},
   "source": [
    "a set is an unordered collection of data values that can be changed, or is mutable.. A frozenset is basically a set which can't be changed"
   ]
  },
  {
   "cell_type": "code",
   "execution_count": 31,
   "metadata": {},
   "outputs": [
    {
     "name": "stdout",
     "output_type": "stream",
     "text": [
      "{'hi', 'hey', 'hello'}\n",
      "{'hi', 'hey'}\n"
     ]
    }
   ],
   "source": [
    "# example of set:\n",
    "thisset = {\"hi\", \"hello\", \"hey\"}\n",
    "print(thisset)\n",
    "# example of frozenset\n",
    "frozen_set = {\"hi\", \"hey\"}\n",
    "print(frozen_set)\n"
   ]
  }
 ],
 "metadata": {
  "kernelspec": {
   "display_name": "Python 3.7.9 64-bit",
   "language": "python",
   "name": "python3"
  },
  "language_info": {
   "codemirror_mode": {
    "name": "ipython",
    "version": 3
   },
   "file_extension": ".py",
   "mimetype": "text/x-python",
   "name": "python",
   "nbconvert_exporter": "python",
   "pygments_lexer": "ipython3",
   "version": "3.7.9"
  },
  "orig_nbformat": 4,
  "vscode": {
   "interpreter": {
    "hash": "8fa13260b2ad5da8a92d4362f230c03eee7b3dfd5b47a73cfd4853277a201fcb"
   }
  }
 },
 "nbformat": 4,
 "nbformat_minor": 2
}
