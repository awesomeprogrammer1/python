{
 "cells": [
  {
   "cell_type": "markdown",
   "metadata": {},
   "source": [
    "String data type:"
   ]
  },
  {
   "cell_type": "markdown",
   "metadata": {},
   "source": [
    "Strings are immutable, so we need to assign the string operation to a new variable, so that we can reuse it. Example below.\n",
    "Note: when we are using the print() function, we do not need to assign the string operation to a variable."
   ]
  },
  {
   "cell_type": "code",
   "execution_count": 12,
   "metadata": {},
   "outputs": [
    {
     "name": "stdout",
     "output_type": "stream",
     "text": [
      "Hello, World!\n",
      "HELLO, USER\n"
     ]
    }
   ],
   "source": [
    "# example where we do not need to use a variable\n",
    "print(\"Hello, World!\")\n",
    "# example where we need to use a variable\n",
    "string_var: str = \"Hello, User\"\n",
    "string_var_capitolized = string_var.upper()\n",
    "print(string_var_capitolized)"
   ]
  },
  {
   "cell_type": "markdown",
   "metadata": {},
   "source": [
    "Strings are ordered alphabetically when using letters, and numbers are sorted numerically."
   ]
  },
  {
   "cell_type": "markdown",
   "metadata": {},
   "source": [
    "Why do we need strings in python?\n",
    "\n",
    "Python does not have a character data type.\n",
    "A single character in python is a string with a length of 1.\n",
    "So we need strings so that we can save arrays of bytes of unicode characters. \n",
    "Strings are useful when communicating information from the program to the user of the program.\n"
   ]
  },
  {
   "cell_type": "markdown",
   "metadata": {},
   "source": [
    "How are strings used in python?\n",
    "\n",
    "Strings are used to handle textual data\n",
    "Below are some examples of the main operations we can do with strings"
   ]
  },
  {
   "cell_type": "code",
   "execution_count": 30,
   "metadata": {},
   "outputs": [
    {
     "name": "stdout",
     "output_type": "stream",
     "text": [
      "35\n",
      "2\n",
      "HI, I REALLY LOVE CODING IN PYTHON!\n",
      "hi, i really love coding in python!\n",
      "pizza\n"
     ]
    }
   ],
   "source": [
    "# len() function gets the amount of characters in the string (including spaces)\n",
    "random_string = \"Hi, I really love coding in python!\"\n",
    "print(len(random_string))\n",
    "# count() function gets the # of times a certain\n",
    "# character or characters were repeated\n",
    "print(random_string.count(\"e\"))\n",
    "# upper() and lower() respectivly make the string uppercase or lowercase\n",
    "print(random_string.upper())\n",
    "print(random_string.lower())\n",
    "# strip() function creates a copy of the string\n",
    "# which removes certain character(s) and then returns it\n",
    "random_string2 = \",,,rrrqqqddd...pizza.rr\"\n",
    "strip_string = random_string2.strip(\",.dqr\")\n",
    "print(strip_string)"
   ]
  },
  {
   "cell_type": "markdown",
   "metadata": {},
   "source": [
    "CRD - Create, Read, Delete\n",
    "Here are examples of all three things with strings"
   ]
  },
  {
   "cell_type": "code",
   "execution_count": 56,
   "metadata": {},
   "outputs": [
    {
     "name": "stdout",
     "output_type": "stream",
     "text": [
      "Hi, I am a python programmer\n",
      ".\n"
     ]
    }
   ],
   "source": [
    "# Create\n",
    "new_string = \"Hi, I am a python programmer\"\n",
    "# Read\n",
    "print(new_string)\n",
    "# Delete\n",
    "removed_string = new_string.replace(\"Hi, I am a python programmer\", \".\")\n",
    "print(removed_string)\n"
   ]
  },
  {
   "cell_type": "code",
   "execution_count": 55,
   "metadata": {},
   "outputs": [
    {
     "name": "stdout",
     "output_type": "stream",
     "text": [
      "H e l l o ,   I   a m   a   p r o g r a m m e r\n"
     ]
    }
   ],
   "source": [
    "# Another interesting string method\n",
    "# adds any character(s) inbetween the seperation between\n",
    "# 2 charcters in the existing string\n",
    "new_string2 = \"Hello, I am a programmer\"\n",
    "add_to_string = \" \".join(new_string2)\n",
    "print(add_to_string)"
   ]
  },
  {
   "cell_type": "markdown",
   "metadata": {},
   "source": [
    "Int data type"
   ]
  },
  {
   "cell_type": "markdown",
   "metadata": {},
   "source": [
    "Integers are mutable in python, we can change them directly"
   ]
  },
  {
   "cell_type": "markdown",
   "metadata": {},
   "source": [
    "Integers are ordered numerically"
   ]
  },
  {
   "cell_type": "markdown",
   "metadata": {},
   "source": [
    "We need integers in python in order to handle operations with numbers. Here are some examples"
   ]
  },
  {
   "cell_type": "code",
   "execution_count": 8,
   "metadata": {},
   "outputs": [
    {
     "name": "stdout",
     "output_type": "stream",
     "text": [
      "[0, 2, 4, 6, 8, 10, 12, 14, 16, 18, 20, 22, 24, 26, 28, 30, 32, 34, 36, 38, 40, 42, 44, 46, 48, 50, 52, 54, 56, 58, 60, 62, 64, 66, 68, 70, 72, 74, 76, 78, 80, 82, 84, 86, 88, 90, 92, 94, 96, 98, 100]\n",
      "0\n",
      "2\n",
      "4\n",
      "6\n",
      "8\n",
      "10\n",
      "12\n",
      "14\n",
      "16\n",
      "18\n",
      "20\n",
      "22\n",
      "24\n",
      "26\n",
      "28\n",
      "30\n",
      "32\n",
      "34\n",
      "36\n",
      "38\n",
      "40\n",
      "42\n",
      "44\n",
      "46\n",
      "48\n",
      "0\n",
      "0\n",
      "0\n",
      "0\n",
      "0\n",
      "0\n",
      "0\n",
      "0\n",
      "0\n",
      "0\n",
      "0\n",
      "0\n",
      "0\n",
      "0\n",
      "0\n",
      "0\n",
      "0\n",
      "0\n",
      "0\n",
      "0\n",
      "0\n",
      "0\n",
      "0\n",
      "0\n",
      "0\n",
      "0\n"
     ]
    }
   ],
   "source": [
    "even_numbers = []\n",
    "\n",
    "for i in range(101):\n",
    "    if i % 2 == 0:\n",
    "        even_numbers.append(i)\n",
    "print(even_numbers)\n",
    "\n",
    "for number in even_numbers:\n",
    "    if number < 50:\n",
    "        print(number)\n",
    "    else:\n",
    "        print(number-number)\n",
    "    \n"
   ]
  },
  {
   "cell_type": "markdown",
   "metadata": {},
   "source": [
    "CRD acronym:\n",
    "Create Read Delete"
   ]
  },
  {
   "cell_type": "code",
   "execution_count": 59,
   "metadata": {},
   "outputs": [
    {
     "name": "stdout",
     "output_type": "stream",
     "text": [
      "5\n",
      "135\n",
      "0\n"
     ]
    }
   ],
   "source": [
    "# create\n",
    "base_int = 5\n",
    "# read\n",
    "print(base_int)\n",
    "# delete\n",
    "base_int -= base_int\n",
    "print(base_int)"
   ]
  },
  {
   "cell_type": "markdown",
   "metadata": {},
   "source": [
    "Interesting things we can do with int"
   ]
  },
  {
   "cell_type": "code",
   "execution_count": 64,
   "metadata": {},
   "outputs": [
    {
     "name": "stdout",
     "output_type": "stream",
     "text": [
      "4\n",
      "21\n",
      "32\n"
     ]
    }
   ],
   "source": [
    "# % gets the remainder\n",
    "print(54 % 5)\n",
    "# // divides the number and rounds it to the nearest whole number\n",
    "print(64 // 3)\n",
    "# ** is the same as ^, exponentiates the number\n",
    "print(2**5)"
   ]
  },
  {
   "cell_type": "markdown",
   "metadata": {},
   "source": [
    "Float data type:\n",
    "\n",
    "Floats is similar to int, but instead it handles numbers with decimal points, such as 1.3"
   ]
  },
  {
   "cell_type": "markdown",
   "metadata": {},
   "source": [
    "Float is immutable"
   ]
  },
  {
   "cell_type": "markdown",
   "metadata": {},
   "source": [
    "Float is ordered numerically, just like int."
   ]
  },
  {
   "cell_type": "markdown",
   "metadata": {},
   "source": [
    "Similarly to int, we need float to handle operations with numbers. However, float is also used for time purposes, as the decimal number is used to convey seconds.\n",
    "Here are the main operations that we can do with floats"
   ]
  },
  {
   "cell_type": "code",
   "execution_count": 23,
   "metadata": {},
   "outputs": [
    {
     "name": "stdout",
     "output_type": "stream",
     "text": [
      "1664296338.4178395\n",
      "time.struct_time(tm_year=2022, tm_mon=9, tm_mday=27, tm_hour=16, tm_min=32, tm_sec=18, tm_wday=1, tm_yday=270, tm_isdst=0)\n"
     ]
    }
   ],
   "source": [
    "import time\n",
    "# epoch is Janurary 1, 1970, 00:00:00 UTC Time, this is where time begins for Unix systems\n",
    "seconds_past_epoch: float = time.time()\n",
    "print(seconds_past_epoch)\n",
    "time_now = time.gmtime(seconds_past_epoch)\n",
    "print(time_now)\n"
   ]
  },
  {
   "cell_type": "markdown",
   "metadata": {},
   "source": [
    "CRD- Create Read Delete\n"
   ]
  },
  {
   "cell_type": "code",
   "execution_count": 24,
   "metadata": {},
   "outputs": [
    {
     "name": "stdout",
     "output_type": "stream",
     "text": [
      "1664296439.9140718\n",
      "0.0\n"
     ]
    }
   ],
   "source": [
    "# create\n",
    "random_float = time.time()\n",
    "# read\n",
    "print(random_float)\n",
    "# delete\n",
    "random_float -= random_float\n",
    "print(random_float)\n"
   ]
  },
  {
   "cell_type": "markdown",
   "metadata": {},
   "source": [
    "List data type:\n",
    "Lists are used to hold multiple items in a single variable. This data type is mutable, and ordered via indexes. \n",
    "\n",
    "We need lists to store multiple items of data in a single variable\n",
    "We can use indexes, starting from 0, to access certain parts of the list\n",
    "Example:"
   ]
  },
  {
   "cell_type": "code",
   "execution_count": 27,
   "metadata": {},
   "outputs": [
    {
     "name": "stdout",
     "output_type": "stream",
     "text": [
      "I\n"
     ]
    }
   ],
   "source": [
    "random_list = [\"I\", \"A\", \"R\"]\n",
    "print(random_list[0])"
   ]
  },
  {
   "cell_type": "markdown",
   "metadata": {},
   "source": [
    "Lets also look at a few more common operations we can do with this data type"
   ]
  },
  {
   "cell_type": "code",
   "execution_count": 30,
   "metadata": {},
   "outputs": [
    {
     "name": "stdout",
     "output_type": "stream",
     "text": [
      "['cat', 'dog', 'horse', 'frog', 'hamster']\n",
      "Found\n"
     ]
    }
   ],
   "source": [
    "alphabet = \"abcdefghijklmnopqrstuvwxyz\"\n",
    "list_var = []\n",
    "for element in alphabet:\n",
    "    list_var.append(element)\n",
    "\"!\".join(list_var)\n",
    "\n",
    "animals = [\"cat\", \"dog\", \"horse\", \"frog\", \"hamster\"]\n",
    "print(animals)\n",
    "for i in range(len(animals)):\n",
    "    while i < 4:\n",
    "        print( \"is not the last element\")\n",
    "    print(\"This is the last element\")\n",
    "\n",
    "\n",
    "\n"
   ]
  },
  {
   "cell_type": "markdown",
   "metadata": {},
   "source": [
    "CRUD (Create Read Update Delete)"
   ]
  },
  {
   "cell_type": "code",
   "execution_count": 26,
   "metadata": {},
   "outputs": [
    {
     "name": "stdout",
     "output_type": "stream",
     "text": [
      "['apple']\n",
      "['apple', 'orange']\n",
      "['orange']\n"
     ]
    }
   ],
   "source": [
    "# create\n",
    "new_list = [\"apple\"]\n",
    "# read\n",
    "print(new_list)\n",
    "# update\n",
    "new_list.append(\"orange\")\n",
    "print(new_list)\n",
    "# delete\n",
    "new_list.remove(\"apple\")\n",
    "print(new_list)"
   ]
  },
  {
   "cell_type": "markdown",
   "metadata": {},
   "source": [
    "Interesting string methods"
   ]
  },
  {
   "cell_type": "code",
   "execution_count": 4,
   "metadata": {},
   "outputs": [
    {
     "name": "stdout",
     "output_type": "stream",
     "text": [
      "['hedgehog', 'shark', 'mouse', 'tiger']\n",
      "['Pineapple', 'hedgehog']\n",
      "['Pineapple', 'hedgehog', 'shark', 'mouse', 'tiger', 'doofus']\n",
      "['Pineapple', 'hedgehog', 'shark', 'mouse', 'tiger']\n"
     ]
    }
   ],
   "source": [
    "# Slicing lists\n",
    "list_var2 = [\"Pineapple\", \"hedgehog\", \"shark\", \"mouse\", \"tiger\"]\n",
    "print(list_var2[1:])\n",
    "# we can also do\n",
    "print(list_var2[:2])\n",
    "# another cool method is .append() and .pop()\n",
    "# sergei gave me the below example\n",
    "# append adds something to the end of the list\n",
    "list_var2.append(\"doofus\")\n",
    "print(list_var2)\n",
    "\n",
    "list_var2.pop(5)\n",
    "print(list_var2)"
   ]
  },
  {
   "cell_type": "markdown",
   "metadata": {},
   "source": [
    "bool data type:\n",
    "\n",
    "Bool is immutable\n",
    "It is not ordered\n",
    "Bool returns a boolean value, or in other words True/False, depending on a certain condition. Here is an example below:"
   ]
  },
  {
   "cell_type": "code",
   "execution_count": null,
   "metadata": {},
   "outputs": [
    {
     "name": "stdout",
     "output_type": "stream",
     "text": [
      "Correct!\n"
     ]
    },
    {
     "ename": "",
     "evalue": "",
     "output_type": "error",
     "traceback": [
      "\u001b[1;31mCanceled future for execute_request message before replies were done"
     ]
    },
    {
     "ename": "",
     "evalue": "",
     "output_type": "error",
     "traceback": [
      "\u001b[1;31mThe Kernel crashed while executing code in the the current cell or a previous cell. Please review the code in the cell(s) to identify a possible cause of the failure. Click <a href='https://aka.ms/vscodeJupyterKernelCrash'>here</a> for more info. View Jupyter <a href='command:jupyter.viewOutput'>log</a> for further details."
     ]
    }
   ],
   "source": [
    "number = 82\n",
    "\n",
    "for i in range(6):\n",
    "    guess_number = int(input(\"Guess a number 1-100. You have five attempts: \"))\n",
    "    if guess_number != number and guess_number < number:\n",
    "        print(\"Incorrect! Try guessing a higher number next time! \")\n",
    "    if guess_number != number and guess_number > number:\n",
    "        print(\"Incorrect! Try guessing a lower number next time\")\n",
    "    if guess_number == number:\n",
    "        print(\"Correct!\")\n",
    "        break\n",
    "else:\n",
    "    print(\"You are out of attempts\")"
   ]
  }
 ],
 "metadata": {
  "kernelspec": {
   "display_name": "Python 3.7.9 64-bit",
   "language": "python",
   "name": "python3"
  },
  "language_info": {
   "codemirror_mode": {
    "name": "ipython",
    "version": 3
   },
   "file_extension": ".py",
   "mimetype": "text/x-python",
   "name": "python",
   "nbconvert_exporter": "python",
   "pygments_lexer": "ipython3",
   "version": "3.7.9"
  },
  "orig_nbformat": 4,
  "vscode": {
   "interpreter": {
    "hash": "8fa13260b2ad5da8a92d4362f230c03eee7b3dfd5b47a73cfd4853277a201fcb"
   }
  }
 },
 "nbformat": 4,
 "nbformat_minor": 2
}
