{
 "cells": [
  {
   "cell_type": "code",
   "execution_count": 17,
   "metadata": {},
   "outputs": [],
   "source": [
    "import time\n",
    "import datetime\n",
    "from datetime import datetime\n"
   ]
  },
  {
   "cell_type": "markdown",
   "metadata": {},
   "source": [
    "Module Time:\n",
    "\n",
    "The point at which time begins for unix systems is called epoch.\n",
    "Epoch is Janurary 1, 1970, 00:00:00 UTC.\n",
    "Module Time takes the number of seconds passed since epoch."
   ]
  },
  {
   "cell_type": "code",
   "execution_count": 3,
   "metadata": {},
   "outputs": [
    {
     "name": "stdout",
     "output_type": "stream",
     "text": [
      "Seconds since epoch = 1662215986.8248758\n"
     ]
    }
   ],
   "source": [
    "import time\n",
    "# how to find amount of seconds since epoch using function .time()\n",
    "seconds: float = time.time()\n",
    "print(\"Seconds since epoch =\", seconds)\t"
   ]
  },
  {
   "cell_type": "markdown",
   "metadata": {},
   "source": [
    "Now lets go over some time methods"
   ]
  },
  {
   "cell_type": "markdown",
   "metadata": {},
   "source": [
    "method sleep()"
   ]
  },
  {
   "cell_type": "code",
   "execution_count": 5,
   "metadata": {},
   "outputs": [
    {
     "name": "stdout",
     "output_type": "stream",
     "text": [
      "This is printed immediately.\n",
      "This is printed after 2.4 seconds.\n",
      "This is printed after 6 seconds since the program was run\n"
     ]
    }
   ],
   "source": [
    "import time\n",
    "\n",
    "\n",
    "print(\"This is printed immediately.\")\n",
    "# method time pauses the program for the given amount of seconds\n",
    "# if there is no argument given, an exception is raised\n",
    "time.sleep(2.4)\n",
    "print(\"This is printed after 2.4 seconds.\")\n",
    "time.sleep(3.6)\n",
    "print(\"This is printed after 6 seconds\")"
   ]
  },
  {
   "cell_type": "markdown",
   "metadata": {},
   "source": [
    "Function .ctime()\n",
    "Gets a time by converting seconds past epoch to a string"
   ]
  },
  {
   "cell_type": "code",
   "execution_count": 4,
   "metadata": {},
   "outputs": [
    {
     "name": "stdout",
     "output_type": "stream",
     "text": [
      "Local time: Sat Sep  3 10:39:46 2022\n"
     ]
    }
   ],
   "source": [
    "seconds: float = 1662215986.8248758\n",
    "local_time: str = time.ctime(seconds)\n",
    "print(\"Local time:\", local_time)"
   ]
  },
  {
   "cell_type": "markdown",
   "metadata": {},
   "source": [
    "Function gmtime\n",
    "creates a time tuple with time infromation in UTC time\n",
    "Function localtime does the same as function gmtime \n",
    "but instead in local time"
   ]
  },
  {
   "cell_type": "code",
   "execution_count": 20,
   "metadata": {},
   "outputs": [
    {
     "name": "stdout",
     "output_type": "stream",
     "text": [
      "General Time: time.struct_time(tm_year=2022, tm_mon=9, tm_mday=3, tm_hour=14, tm_min=39, tm_sec=46, tm_wday=5, tm_yday=246, tm_isdst=0)\n",
      "Local Time: time.struct_time(tm_year=2022, tm_mon=9, tm_mday=3, tm_hour=10, tm_min=39, tm_sec=46, tm_wday=5, tm_yday=246, tm_isdst=1)\n"
     ]
    }
   ],
   "source": [
    "from time import struct_time\n",
    "\n",
    "\n",
    "seconds: float = 1662215986.8248758\n",
    "general_time: struct_time = time.gmtime(seconds)\n",
    "print(\"General Time:\", general_time)\n",
    "#\n",
    "local_time: struct_time = time.localtime(seconds)\n",
    "print(\"Local Time:\", local_time)"
   ]
  },
  {
   "cell_type": "markdown",
   "metadata": {},
   "source": [
    "Method strftime \n",
    "returns a string respresenting date and time using date, time, or datatime object"
   ]
  },
  {
   "cell_type": "code",
   "execution_count": 19,
   "metadata": {},
   "outputs": [
    {
     "name": "stdout",
     "output_type": "stream",
     "text": [
      "year: 22\n"
     ]
    }
   ],
   "source": [
    "from datetime import datetime\n",
    "now_var: datetime = datetime.now()\n",
    "str_time: str = now_var.strftime(\"%y\")\n",
    "print(\"year:\", str_time)\n"
   ]
  },
  {
   "cell_type": "markdown",
   "metadata": {},
   "source": [
    "Module Datetime\n",
    "\n",
    "Datetime supplies classes that work with date and time"
   ]
  },
  {
   "cell_type": "markdown",
   "metadata": {},
   "source": [
    "Method now constructs a date and time\n",
    "using tzinfo (timezone infromation)"
   ]
  },
  {
   "cell_type": "code",
   "execution_count": 7,
   "metadata": {},
   "outputs": [
    {
     "name": "stdout",
     "output_type": "stream",
     "text": [
      "2022-09-03 10:50:59.665581\n"
     ]
    }
   ],
   "source": [
    "import datetime\n",
    "datetime_object: datetime = datetime.datetime.now()\n",
    "print(datetime_object)"
   ]
  },
  {
   "cell_type": "code",
   "execution_count": 31,
   "metadata": {},
   "outputs": [
    {
     "name": "stdout",
     "output_type": "stream",
     "text": [
      "Today's date is 2022-09-03\n"
     ]
    }
   ],
   "source": [
    "from datetime import date\n",
    "# method today helps construct a date\n",
    "# by using the gregorian calendar\n",
    "today: date = date.today()\n",
    " \n",
    "print(\"Today's date is\", today)"
   ]
  }
 ],
 "metadata": {
  "kernelspec": {
   "display_name": "Python 3.7.9 64-bit",
   "language": "python",
   "name": "python3"
  },
  "language_info": {
   "codemirror_mode": {
    "name": "ipython",
    "version": 3
   },
   "file_extension": ".py",
   "mimetype": "text/x-python",
   "name": "python",
   "nbconvert_exporter": "python",
   "pygments_lexer": "ipython3",
   "version": "3.7.9"
  },
  "orig_nbformat": 4,
  "vscode": {
   "interpreter": {
    "hash": "8fa13260b2ad5da8a92d4362f230c03eee7b3dfd5b47a73cfd4853277a201fcb"
   }
  }
 },
 "nbformat": 4,
 "nbformat_minor": 2
}
