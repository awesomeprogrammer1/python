{
 "cells": [
  {
   "cell_type": "code",
   "execution_count": 17,
   "metadata": {},
   "outputs": [],
   "source": [
    "import time\n",
    "import datetime\n"
   ]
  },
  {
   "cell_type": "markdown",
   "metadata": {},
   "source": [
    "Module Time:\n",
    "\n",
    "The point at which time begins for unix systems is called epoch.\n",
    "Epoch is Janurary 1, 1970, 00:00:00 UTC.\n",
    "Module Time takes the number of seconds passed since epoch."
   ]
  },
  {
   "cell_type": "code",
   "execution_count": 3,
   "metadata": {},
   "outputs": [
    {
     "name": "stdout",
     "output_type": "stream",
     "text": [
      "Seconds since epoch = 1662215986.8248758\n"
     ]
    }
   ],
   "source": [
    "import time\n",
    "# how to find amount of seconds since epoch using function .time()\n",
    "seconds: float = time.time()\n",
    "print(\"Seconds since epoch =\", seconds)\t\n"
   ]
  },
  {
   "cell_type": "markdown",
   "metadata": {},
   "source": [
    "Now lets go over some time methods"
   ]
  },
  {
   "cell_type": "markdown",
   "metadata": {},
   "source": [
    "function sleep() pauses the program for the given amount of seconds. If no argument is given then an exception is raised."
   ]
  },
  {
   "cell_type": "code",
   "execution_count": 18,
   "metadata": {},
   "outputs": [
    {
     "name": "stdout",
     "output_type": "stream",
     "text": [
      "This is printed immediately.\n",
      "This is printed after 2.4 seconds.\n"
     ]
    }
   ],
   "source": [
    "import time\n",
    "\n",
    "\n",
    "print(\"This is printed immediately.\")\n",
    "time.sleep(2.4)\n",
    "print(\"This is printed after 2.4 seconds.\")"
   ]
  },
  {
   "cell_type": "markdown",
   "metadata": {},
   "source": [
    "Function .ctime()\n",
    "Takes an amount of seconds past epoch.\n",
    "And returns a string with the converted seconds as a time\n",
    "In local time."
   ]
  },
  {
   "cell_type": "code",
   "execution_count": 31,
   "metadata": {},
   "outputs": [
    {
     "name": "stdout",
     "output_type": "stream",
     "text": [
      "Local time: Wed Dec 31 20:00:00 1969\n"
     ]
    }
   ],
   "source": [
    "seconds: float = 3600.6\n",
    "local_time: str = time.ctime(seconds)\n",
    "print(\"Local time:\", local_time)"
   ]
  },
  {
   "cell_type": "markdown",
   "metadata": {},
   "source": [
    "Function gmtime.\n",
    "Takes an amount of seconds past epoch.\n",
    "And creates a tuple with time infromation\n",
    "in UTC time.\n",
    "Function localtime.\n",
    "Does the same as gmtime except the tuple with time infromation is in local time."
   ]
  },
  {
   "cell_type": "code",
   "execution_count": 34,
   "metadata": {},
   "outputs": [
    {
     "name": "stdout",
     "output_type": "stream",
     "text": [
      "General Time: time.struct_time(tm_year=2022, tm_mon=9, tm_mday=3, tm_hour=18, tm_min=40, tm_sec=32, tm_wday=5, tm_yday=246, tm_isdst=0)\n",
      "Local Time: time.struct_time(tm_year=2022, tm_mon=9, tm_mday=3, tm_hour=14, tm_min=40, tm_sec=32, tm_wday=5, tm_yday=246, tm_isdst=1)\n"
     ]
    }
   ],
   "source": [
    "from time import struct_time\n",
    "\n",
    "\n",
    "seconds: float = time.time()\n",
    "general_time: struct_time = time.gmtime(seconds)\n",
    "print(\"General Time:\", general_time)\n",
    "#\n",
    "local_time: struct_time = time.localtime(seconds)\n",
    "print(\"Local Time:\", local_time)"
   ]
  },
  {
   "cell_type": "markdown",
   "metadata": {},
   "source": [
    "Method strftime \n",
    "returns a string respresenting date and time using date, time, or datatime object"
   ]
  },
  {
   "cell_type": "code",
   "execution_count": 3,
   "metadata": {},
   "outputs": [
    {
     "name": "stdout",
     "output_type": "stream",
     "text": [
      "year: 2022-12-19 10:26:58.419087\n"
     ]
    }
   ],
   "source": [
    "from datetime import datetime\n",
    "now_var: datetime = datetime.now()\n",
    "str_time: str = now_var.strftime(\"%Y-%m-%d\")\n",
    "print(\"year:\", now_var)\n"
   ]
  },
  {
   "cell_type": "markdown",
   "metadata": {},
   "source": [
    "Checking if date is valid or not"
   ]
  },
  {
   "cell_type": "code",
   "execution_count": 31,
   "metadata": {},
   "outputs": [
    {
     "name": "stdout",
     "output_type": "stream",
     "text": [
      "2022-04-32\n"
     ]
    }
   ],
   "source": [
    "from datetime import datetime\n",
    "import calendar\n",
    "try:\n",
    "    verify_date = input(\"Enter a date with the yyyy-mm-dd format\")\n",
    "except ValueError:\n",
    "    print(\"Error, invalid date\")\n",
    "verify_date.split(\"-\")\n",
    "if int(verify_date[1]) > 12 or int(verify_date[2]) > 31:\n",
    "    print(\"Error, invalid date\")\n",
    "else:   \n",
    "    print(verify_date)"
   ]
  },
  {
   "cell_type": "markdown",
   "metadata": {},
   "source": [
    "Function time.mktime() is basically the inverse function of localtime()\n",
    "It Takes struct_time (or a tuple containing 9 elements that correspond to struct_time)\n",
    "As an argument and returns the seconds passed since epoch in local time.\n",
    "Here is an example that shows how they are related"
   ]
  },
  {
   "cell_type": "code",
   "execution_count": 9,
   "metadata": {},
   "outputs": [
    {
     "name": "stdout",
     "output_type": "stream",
     "text": [
      "t1:  time.struct_time(tm_year=2018, tm_mon=12, tm_mday=27, tm_hour=10, tm_min=49, tm_sec=29, tm_wday=3, tm_yday=361, tm_isdst=0)\n",
      "\\s: 1545925769.0\n"
     ]
    }
   ],
   "source": [
    "seconds = 1545925769\n",
    "\n",
    "t = time.localtime(seconds)\n",
    "print(\"t1: \", t)\n",
    "\n",
    "\n",
    "s = time.mktime(t)\n",
    "print(\"\\s:\", s)"
   ]
  },
  {
   "cell_type": "markdown",
   "metadata": {},
   "source": [
    "Function asctime()\n",
    "Takes struct_time (or a tuple containing 9 elements that correspond to struct_time)\n",
    "as an argument and returns a string representing it"
   ]
  },
  {
   "cell_type": "code",
   "execution_count": 10,
   "metadata": {},
   "outputs": [
    {
     "name": "stdout",
     "output_type": "stream",
     "text": [
      "Result: Fri Nov 29 08:44:04 2021\n"
     ]
    }
   ],
   "source": [
    "import time\n",
    "\n",
    "t = (2021, 11, 29, 8, 44, 4, 4, 362, 0)\n",
    "\n",
    "result = time.asctime(t)\n",
    "print(\"Result:\", result)"
   ]
  },
  {
   "cell_type": "markdown",
   "metadata": {},
   "source": [
    "Functin strftime()\n",
    "takes struct_time or a tuple corresponding to it as an argument and returns a string representing it based on the format code"
   ]
  },
  {
   "cell_type": "code",
   "execution_count": 2,
   "metadata": {},
   "outputs": [
    {
     "name": "stdout",
     "output_type": "stream",
     "text": [
      "09/09/2022, 18:18:34\n"
     ]
    }
   ],
   "source": [
    "import time\n",
    "\n",
    "named_tuple = time.localtime()\n",
    "time_string = time.strftime(\"%m/%d/%Y, %H:%M:%S\", named_tuple)\n",
    "\n",
    "print(time_string)"
   ]
  },
  {
   "cell_type": "markdown",
   "metadata": {},
   "source": [
    "Function strptime()\n",
    "parses a string representing time and returns struct_time"
   ]
  },
  {
   "cell_type": "code",
   "execution_count": 1,
   "metadata": {},
   "outputs": [
    {
     "name": "stdout",
     "output_type": "stream",
     "text": [
      "time.struct_time(tm_year=2018, tm_mon=6, tm_mday=21, tm_hour=0, tm_min=0, tm_sec=0, tm_wday=3, tm_yday=172, tm_isdst=-1)\n"
     ]
    }
   ],
   "source": [
    "import time\n",
    "\n",
    "time_string = \"21 June, 2018\"\n",
    "result = time.strptime(time_string, \"%d %B, %Y\")\n",
    "\n",
    "print(result)"
   ]
  },
  {
   "cell_type": "markdown",
   "metadata": {},
   "source": [
    "Module Datetime\n",
    "\n",
    "Datetime supplies classes that work with date and time"
   ]
  },
  {
   "cell_type": "markdown",
   "metadata": {},
   "source": [
    "Method now constructs a date and time\n",
    "using tzinfo (timezone infromation)"
   ]
  },
  {
   "cell_type": "code",
   "execution_count": 7,
   "metadata": {},
   "outputs": [
    {
     "name": "stdout",
     "output_type": "stream",
     "text": [
      "2022-09-03 10:50:59.665581\n"
     ]
    }
   ],
   "source": [
    "import datetime\n",
    "datetime_object: datetime = datetime.datetime.now()\n",
    "print(datetime_object)"
   ]
  },
  {
   "cell_type": "markdown",
   "metadata": {},
   "source": [
    "Method today\n",
    "helps construct a date by using the gregorian calendar."
   ]
  },
  {
   "cell_type": "code",
   "execution_count": 31,
   "metadata": {},
   "outputs": [
    {
     "name": "stdout",
     "output_type": "stream",
     "text": [
      "Today's date is 2022-09-03\n"
     ]
    }
   ],
   "source": [
    "from datetime import date\n",
    "today: date = date.today()\n",
    " \n",
    "print(\"Today's date is\", today)"
   ]
  }
 ],
 "metadata": {
  "kernelspec": {
   "display_name": "Python 3.7.9 64-bit",
   "language": "python",
   "name": "python3"
  },
  "language_info": {
   "codemirror_mode": {
    "name": "ipython",
    "version": 3
   },
   "file_extension": ".py",
   "mimetype": "text/x-python",
   "name": "python",
   "nbconvert_exporter": "python",
   "pygments_lexer": "ipython3",
   "version": "3.7.9"
  },
  "orig_nbformat": 4,
  "vscode": {
   "interpreter": {
    "hash": "8fa13260b2ad5da8a92d4362f230c03eee7b3dfd5b47a73cfd4853277a201fcb"
   }
  }
 },
 "nbformat": 4,
 "nbformat_minor": 2
}
