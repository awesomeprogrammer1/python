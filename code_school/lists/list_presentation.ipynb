{
 "cells": [
  {
   "cell_type": "markdown",
   "metadata": {},
   "source": [
    "List data type\n",
    "\n",
    "We use lists to save multiple values into one variable so we can easily perform operations on them"
   ]
  },
  {
   "cell_type": "markdown",
   "metadata": {},
   "source": [
    "Lists are able to handle any data type."
   ]
  },
  {
   "cell_type": "code",
   "execution_count": 55,
   "metadata": {},
   "outputs": [
    {
     "name": "stdout",
     "output_type": "stream",
     "text": [
      "['strings', ['lists', 'in', 'lists', ['in', 'lists']], {'dictionaries': 'too'}, 74]\n"
     ]
    }
   ],
   "source": [
    "list_of_data_types = [\"strings\",['lists','in','lists',[\"in\",\"lists\"]],{\"dictionaries\" : \"too\"},74,\"also!\"]\n",
    "# creates a list of different data types\n",
    "print(list_of_data_types)\n",
    "# prints ['strings', ['lists', 'in', 'lists', ['in', 'lists']], {'dictionaries': 'too'}, 74]"
   ]
  },
  {
   "cell_type": "markdown",
   "metadata": {},
   "source": [
    "Similar to strings, we can access lists through ordered indexes. For example, lets slice an example list"
   ]
  },
  {
   "cell_type": "code",
   "execution_count": 8,
   "metadata": {},
   "outputs": [
    {
     "name": "stdout",
     "output_type": "stream",
     "text": [
      "apple\n",
      "['cherry', 'apple', 'orange']\n",
      "pineapple\n",
      "['cherry', 'apple', 'orange', 'cranberry']\n",
      "['pineapple', 'cranberry', 'orange', 'apple', 'cherry']\n"
     ]
    }
   ],
   "source": [
    "fruits = [\"cherry\",\"apple\",\"orange\",\"cranberry\",\"pineapple\"]\n",
    "print(fruits[1])\n",
    "# We can slice the list similar to how we slice with strings\n",
    "\n",
    "print(fruits[0:3]) # prints ['cherry', 'apple', 'orange']\n",
    "print(fruits[-1]) # prints 'pineapple'\n",
    "print(fruits[:-1]) # prints ['cherry', 'apple', 'orange', 'cranberry']\n",
    "print(fruits[::-1]) # reverses the list"
   ]
  },
  {
   "cell_type": "markdown",
   "metadata": {},
   "source": [
    "Also, if a list is in a list, we can access the elements in the inner list like this"
   ]
  },
  {
   "cell_type": "code",
   "execution_count": 50,
   "metadata": {},
   "outputs": [
    {
     "name": "stdout",
     "output_type": "stream",
     "text": [
      "world!\n"
     ]
    }
   ],
   "source": [
    "list_in_list = [\"hey!\",[\"big\",\"bold\",\"world!\"]]\n",
    "print(list_in_list[1][2])\n",
    "# gets the item at the first index, a list, which then gets the item at the 2nd index of that list,\n",
    "# and then prints that element, which would be \"world!\""
   ]
  },
  {
   "cell_type": "markdown",
   "metadata": {},
   "source": [
    "We can use two kinds of loops with lists\n",
    "\n",
    "The following loops will print the items in the list at even indexes\n",
    "And then print the elements of the list that include the character \"e\"\n"
   ]
  },
  {
   "cell_type": "code",
   "execution_count": 34,
   "metadata": {},
   "outputs": [
    {
     "name": "stdout",
     "output_type": "stream",
     "text": [
      "cherry\n",
      "orange\n",
      "pineapple\n",
      "zucchini\n",
      "cherry\n",
      "apple\n",
      "orange\n",
      "pineapple\n",
      "grape\n"
     ]
    }
   ],
   "source": [
    "my_list = [\"cherry\",\"apple\",\"orange\",\"pumpkin\",\"pineapple\",\"grape\", \"zucchini\", 23]\n",
    "# Looping through the amount of items in the list\n",
    "for i in range(len(my_list)):\n",
    "    if i % 2 == 0:\n",
    "        # checks if the index of the current element\n",
    "        # is even/odd\n",
    "        print(my_list[i])\n",
    "        # prints the element at an even index\n",
    "\n",
    "# Looping through elements of the list of the same data type\n",
    "for element in my_list:\n",
    "    if \"e\" in str(element):\n",
    "        # checks if the current element\n",
    "        # contains \"e\"\n",
    "        print(element)\n",
    "        # prints the element"
   ]
  },
  {
   "cell_type": "markdown",
   "metadata": {},
   "source": [
    "We can also add/update and delete elements from lists"
   ]
  },
  {
   "cell_type": "code",
   "execution_count": 69,
   "metadata": {},
   "outputs": [
    {
     "name": "stdout",
     "output_type": "stream",
     "text": [
      "[1, 2, 5, 6, 7, 8, 9, 10, 11]\n"
     ]
    }
   ],
   "source": [
    "numbers_list: list = [1,2,3,4,5,6,7,8,9,10]\n",
    "numbers_list.append(11) # adds 11 to the end of the list\n",
    "numbers_list.remove(3) # removes 3 from the list\n",
    "numbers_list.pop(2) # removes \"4\" from the list\n",
    "print(numbers_list) # prints [1, 2, 5, 6, 7, 8, 9, 10, 11]"
   ]
  },
  {
   "cell_type": "markdown",
   "metadata": {},
   "source": [
    "We can use the in operator to check if an element is in a list"
   ]
  },
  {
   "cell_type": "code",
   "execution_count": 70,
   "metadata": {},
   "outputs": [
    {
     "name": "stdout",
     "output_type": "stream",
     "text": [
      "True\n",
      "False\n",
      "True\n",
      "False\n",
      "True\n"
     ]
    }
   ],
   "source": [
    "vegetables = [\"cauliflower\",\"broccoli\",\"brussel sprouts\", 23]\n",
    "print(\"broccoli\" in vegetables) # returns True\n",
    "print(\"spinach\" in vegetables) # returns False\n",
    "print(23 in vegetables) # returns true\n",
    "print(24 in vegetables) # returns false\n",
    "print(24 not in vegetables) # returns true"
   ]
  },
  {
   "cell_type": "markdown",
   "metadata": {},
   "source": [
    "Interesting join() method"
   ]
  },
  {
   "cell_type": "markdown",
   "metadata": {},
   "source": [
    "In python, we can join lists together using the join() method, here is an example below."
   ]
  },
  {
   "cell_type": "code",
   "execution_count": 71,
   "metadata": {},
   "outputs": [
    {
     "name": "stdout",
     "output_type": "stream",
     "text": [
      "['hello', 'im andrew']\n",
      "hello, im andrew\n"
     ]
    }
   ],
   "source": [
    "introduction: list = ['hello', \"im andrew\"]\n",
    "# creates a list and prints it\n",
    "print(introduction)\n",
    "# this line doesn't seem to have proper grammar, so lets use the join() method to fix it!\n",
    "proper_intro = ', '.join(introduction)\n",
    "print(proper_intro) # prints 'hello, im andrew'"
   ]
  }
 ],
 "metadata": {
  "kernelspec": {
   "display_name": "Python 3.10.8 64-bit",
   "language": "python",
   "name": "python3"
  },
  "language_info": {
   "codemirror_mode": {
    "name": "ipython",
    "version": 3
   },
   "file_extension": ".py",
   "mimetype": "text/x-python",
   "name": "python",
   "nbconvert_exporter": "python",
   "pygments_lexer": "ipython3",
   "version": "3.10.8"
  },
  "orig_nbformat": 4,
  "vscode": {
   "interpreter": {
    "hash": "b0fa6594d8f4cbf19f97940f81e996739fb7646882a419484c72d19e05852a7e"
   }
  }
 },
 "nbformat": 4,
 "nbformat_minor": 2
}
