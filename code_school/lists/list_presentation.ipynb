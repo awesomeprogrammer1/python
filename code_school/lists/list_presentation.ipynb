{
 "cells": [
  {
   "cell_type": "markdown",
   "metadata": {},
   "source": [
    "List data type\n",
    "\n",
    "We use lists to save multiple sets of characters into one variable so we can easily perform operations on them"
   ]
  },
  {
   "cell_type": "markdown",
   "metadata": {},
   "source": [
    "Similar to strings, we can and primarily access lists through indexes. For example, lets slice an example list"
   ]
  },
  {
   "cell_type": "code",
   "execution_count": 8,
   "metadata": {},
   "outputs": [
    {
     "name": "stdout",
     "output_type": "stream",
     "text": [
      "apple\n",
      "['cherry', 'apple', 'orange']\n",
      "pineapple\n",
      "['cherry', 'apple', 'orange', 'cranberry']\n",
      "['pineapple', 'cranberry', 'orange', 'apple', 'cherry']\n"
     ]
    }
   ],
   "source": [
    "fruits = [\"cherry\",\"apple\",\"orange\",\"cranberry\",\"pineapple\"]\n",
    "print(fruits[1])\n",
    "# We can slice the list similar to how we slice with strings\n",
    "\n",
    "print(fruits[0:3]) # prints ['cherry', 'apple', 'orange']\n",
    "print(fruits[-1]) # prints 'pineapple'\n",
    "print(fruits[:-1]) # prints ['cherry', 'apple', 'orange', 'cranberry']\n",
    "print(fruits[::-1]) # reverses the string"
   ]
  },
  {
   "cell_type": "markdown",
   "metadata": {},
   "source": [
    "We can use the two loops we used with strings to work with lists as well\n",
    "\n",
    "The following loops will print the items in the list at even indexes\n",
    "And then print the elements of the list that include the character \"e\"\n"
   ]
  },
  {
   "cell_type": "code",
   "execution_count": 16,
   "metadata": {},
   "outputs": [
    {
     "name": "stdout",
     "output_type": "stream",
     "text": [
      "cherry\n",
      "orange\n",
      "pineapple\n",
      "zucchini\n",
      "cherry\n",
      "apple\n",
      "orange\n",
      "pineapple\n",
      "grape\n"
     ]
    }
   ],
   "source": [
    "my_list = [\"cherry\",\"apple\",\"orange\",\"pumpkin\",\"pineapple\",\"grape\", \"zucchini\"]\n",
    "# Looping with an index\n",
    "for i in range(len(my_list)):\n",
    "    if i % 2 == 0:\n",
    "        print(my_list[i])\n",
    "\n",
    "# Looping though characters in the string\n",
    "for char in my_list:\n",
    "    if \"e\" in char:\n",
    "        print(char)"
   ]
  },
  {
   "cell_type": "markdown",
   "metadata": {},
   "source": [
    "Lists are mutable, we can change them after creation"
   ]
  },
  {
   "cell_type": "code",
   "execution_count": 23,
   "metadata": {},
   "outputs": [
    {
     "name": "stdout",
     "output_type": "stream",
     "text": [
      "['chocolate', 'cake', 'brownie', 'cookie', 'milk']\n"
     ]
    }
   ],
   "source": [
    "# We can add and remove things from lists\n",
    "sweets = [\"popsicle\",\"chocolate\",\"ice cream\",\"cake\",\"brownie\",\"cookie\"]\n",
    "sweets.append(\"milk\")\n",
    "sweets.remove(\"popsicle\")\n",
    "sweets.pop(1)\n",
    "print(sweets)"
   ]
  },
  {
   "cell_type": "markdown",
   "metadata": {},
   "source": [
    "We can use the in operator to check if something is part of a list"
   ]
  },
  {
   "cell_type": "code",
   "execution_count": 24,
   "metadata": {},
   "outputs": [
    {
     "name": "stdout",
     "output_type": "stream",
     "text": [
      "True\n",
      "False\n"
     ]
    }
   ],
   "source": [
    "vegetables = [\"cauliflower\",\"broccoli\",\"brussel sprouts\"]\n",
    "print(\"broccoli\" in vegetables)\n",
    "print(\"spinach\" in vegetables)"
   ]
  },
  {
   "cell_type": "markdown",
   "metadata": {},
   "source": [
    "We can also delete lists but you realisitcally never need to do this"
   ]
  },
  {
   "cell_type": "code",
   "execution_count": 25,
   "metadata": {},
   "outputs": [
    {
     "name": "stdout",
     "output_type": "stream",
     "text": [
      "['knife', 'food processor', 'pot', 'strainer']\n"
     ]
    },
    {
     "ename": "NameError",
     "evalue": "name 'kitchen_tools' is not defined",
     "output_type": "error",
     "traceback": [
      "\u001b[1;31m---------------------------------------------------------------------------\u001b[0m",
      "\u001b[1;31mNameError\u001b[0m                                 Traceback (most recent call last)",
      "\u001b[1;32m~\\AppData\\Local\\Temp\\ipykernel_133000\\716019758.py\u001b[0m in \u001b[0;36m<module>\u001b[1;34m\u001b[0m\n\u001b[0;32m      3\u001b[0m \u001b[1;32mdel\u001b[0m \u001b[0mkitchen_tools\u001b[0m\u001b[1;33m\u001b[0m\u001b[1;33m\u001b[0m\u001b[0m\n\u001b[0;32m      4\u001b[0m \u001b[1;31m# the following line will not work\u001b[0m\u001b[1;33m\u001b[0m\u001b[1;33m\u001b[0m\u001b[1;33m\u001b[0m\u001b[0m\n\u001b[1;32m----> 5\u001b[1;33m \u001b[0mprint\u001b[0m\u001b[1;33m(\u001b[0m\u001b[0mkitchen_tools\u001b[0m\u001b[1;33m)\u001b[0m\u001b[1;33m\u001b[0m\u001b[1;33m\u001b[0m\u001b[0m\n\u001b[0m",
      "\u001b[1;31mNameError\u001b[0m: name 'kitchen_tools' is not defined"
     ]
    }
   ],
   "source": [
    "kitchen_tools = [\"knife\",\"food processor\",\"pot\",\"strainer\"]\n",
    "print(kitchen_tools)\n",
    "del kitchen_tools\n",
    "# the following line will not work\n",
    "print(kitchen_tools)"
   ]
  },
  {
   "cell_type": "markdown",
   "metadata": {},
   "source": [
    "We can't split but we can join lists"
   ]
  },
  {
   "cell_type": "code",
   "execution_count": 26,
   "metadata": {},
   "outputs": [
    {
     "ename": "AttributeError",
     "evalue": "'list' object has no attribute 'split'",
     "output_type": "error",
     "traceback": [
      "\u001b[1;31m---------------------------------------------------------------------------\u001b[0m",
      "\u001b[1;31mAttributeError\u001b[0m                            Traceback (most recent call last)",
      "\u001b[1;32m~\\AppData\\Local\\Temp\\ipykernel_133000\\3258062947.py\u001b[0m in \u001b[0;36m<module>\u001b[1;34m\u001b[0m\n\u001b[0;32m      1\u001b[0m \u001b[1;31m# This code will raise an exception\u001b[0m\u001b[1;33m\u001b[0m\u001b[1;33m\u001b[0m\u001b[1;33m\u001b[0m\u001b[0m\n\u001b[0;32m      2\u001b[0m \u001b[0manimals\u001b[0m \u001b[1;33m=\u001b[0m \u001b[1;33m[\u001b[0m\u001b[1;34m\"cows\"\u001b[0m\u001b[1;33m,\u001b[0m\u001b[1;34m\"sheep\"\u001b[0m\u001b[1;33m,\u001b[0m\u001b[1;34m\"chickens\"\u001b[0m\u001b[1;33m,\u001b[0m\u001b[1;34m\"pigs\"\u001b[0m\u001b[1;33m,\u001b[0m\u001b[1;34m\"dogs\"\u001b[0m\u001b[1;33m,\u001b[0m\u001b[1;34m\"cats\"\u001b[0m\u001b[1;33m]\u001b[0m\u001b[1;33m\u001b[0m\u001b[1;33m\u001b[0m\u001b[0m\n\u001b[1;32m----> 3\u001b[1;33m \u001b[0manimals\u001b[0m\u001b[1;33m.\u001b[0m\u001b[0msplit\u001b[0m\u001b[1;33m(\u001b[0m\u001b[1;33m)\u001b[0m\u001b[1;33m\u001b[0m\u001b[1;33m\u001b[0m\u001b[0m\n\u001b[0m",
      "\u001b[1;31mAttributeError\u001b[0m: 'list' object has no attribute 'split'"
     ]
    }
   ],
   "source": [
    "# This code will raise an exception\n",
    "farm_animals = [\"cows\",\"sheep\",\"chickens\",\"pigs\"]\n",
    "farm_animals.split()"
   ]
  },
  {
   "cell_type": "code",
   "execution_count": 32,
   "metadata": {},
   "outputs": [
    {
     "data": {
      "text/plain": [
       "'dogs! cats! frogs! guinea pigs! goldfish!'"
      ]
     },
     "execution_count": 32,
     "metadata": {},
     "output_type": "execute_result"
    }
   ],
   "source": [
    "# This code will work however\n",
    "home_animals = ['dogs','cats','frogs','guinea pigs','goldfish!']\n",
    "'! '.join(home_animals)"
   ]
  }
 ],
 "metadata": {
  "kernelspec": {
   "display_name": "Python 3.7.9 64-bit",
   "language": "python",
   "name": "python3"
  },
  "language_info": {
   "codemirror_mode": {
    "name": "ipython",
    "version": 3
   },
   "file_extension": ".py",
   "mimetype": "text/x-python",
   "name": "python",
   "nbconvert_exporter": "python",
   "pygments_lexer": "ipython3",
   "version": "3.7.9"
  },
  "orig_nbformat": 4,
  "vscode": {
   "interpreter": {
    "hash": "8fa13260b2ad5da8a92d4362f230c03eee7b3dfd5b47a73cfd4853277a201fcb"
   }
  }
 },
 "nbformat": 4,
 "nbformat_minor": 2
}
