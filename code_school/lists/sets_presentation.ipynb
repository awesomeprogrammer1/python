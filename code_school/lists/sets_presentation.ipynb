{
 "cells": [
  {
   "cell_type": "markdown",
   "metadata": {},
   "source": [
    "Sets\n",
    "\n",
    "Sets, similar to lists, are used to store multiple items in a single variable.\n",
    "A set is a collection of elements which is unordered, unchangeable, and unindexed"
   ]
  },
  {
   "cell_type": "code",
   "execution_count": 1,
   "metadata": {},
   "outputs": [
    {
     "name": "stdout",
     "output_type": "stream",
     "text": [
      "{'cherry', 'apple', 'banana'}\n"
     ]
    }
   ],
   "source": [
    "# A Set can't hold duplicate items (items that are the same, for example we can't have\n",
    "# the world \"orange\" appear twice in a set)\n",
    "# 'apple' will only appear once in this set\n",
    "fruits = {\"apple\", \"banana\", \"cherry\", \"apple\"}\n",
    "\n",
    "print(fruits)"
   ]
  },
  {
   "cell_type": "markdown",
   "metadata": {},
   "source": [
    "We can also create a set using the set() constructor like this"
   ]
  },
  {
   "cell_type": "code",
   "execution_count": null,
   "metadata": {},
   "outputs": [],
   "source": [
    "vegetables = set((\"broccoli\",\"zucchini\",\"spinach\"))\n",
    "print(vegetables)"
   ]
  },
  {
   "cell_type": "markdown",
   "metadata": {},
   "source": [
    "Sets are mutable*, however they are not ordered via indexes\n",
    "\n",
    "\n",
    "Note: Set items are immutable, but you can add/remove items"
   ]
  },
  {
   "cell_type": "code",
   "execution_count": 1,
   "metadata": {},
   "outputs": [
    {
     "name": "stdout",
     "output_type": "stream",
     "text": [
      "{'train', 'car', 'plane', 'bus'}\n",
      "{'train', 'plane', 'bus'}\n"
     ]
    },
    {
     "ename": "TypeError",
     "evalue": "'set' object is not subscriptable",
     "output_type": "error",
     "traceback": [
      "\u001b[1;31m---------------------------------------------------------------------------\u001b[0m",
      "\u001b[1;31mTypeError\u001b[0m                                 Traceback (most recent call last)",
      "\u001b[1;32m~\\AppData\\Local\\Temp\\ipykernel_69124\\2568613379.py\u001b[0m in \u001b[0;36m<module>\u001b[1;34m\u001b[0m\n\u001b[0;32m      6\u001b[0m \u001b[0mprint\u001b[0m\u001b[1;33m(\u001b[0m\u001b[0mtransportation\u001b[0m\u001b[1;33m)\u001b[0m\u001b[1;33m\u001b[0m\u001b[1;33m\u001b[0m\u001b[0m\n\u001b[0;32m      7\u001b[0m \u001b[1;31m# The following code will raise an exception\u001b[0m\u001b[1;33m\u001b[0m\u001b[1;33m\u001b[0m\u001b[1;33m\u001b[0m\u001b[0m\n\u001b[1;32m----> 8\u001b[1;33m \u001b[0mprint\u001b[0m\u001b[1;33m(\u001b[0m\u001b[0mtransportation\u001b[0m\u001b[1;33m[\u001b[0m\u001b[1;36m1\u001b[0m\u001b[1;33m]\u001b[0m\u001b[1;33m)\u001b[0m\u001b[1;33m\u001b[0m\u001b[1;33m\u001b[0m\u001b[0m\n\u001b[0m",
      "\u001b[1;31mTypeError\u001b[0m: 'set' object is not subscriptable"
     ]
    }
   ],
   "source": [
    "# The following code will run properly\n",
    "transportation = {\"train\",\"plane\",\"car\"}\n",
    "transportation.add(\"bus\")\n",
    "print(transportation)\n",
    "transportation.remove(\"car\")\n",
    "print(transportation)\n",
    "# The following code will raise an exception\n",
    "print(transportation[1])"
   ]
  },
  {
   "cell_type": "markdown",
   "metadata": {},
   "source": [
    "We can however, loop through the items in a set using a for loop"
   ]
  },
  {
   "cell_type": "code",
   "execution_count": 25,
   "metadata": {},
   "outputs": [
    {
     "name": "stdout",
     "output_type": "stream",
     "text": [
      "bowl\n",
      "saucepan\n",
      "strainer\n",
      "knife\n",
      "blender\n",
      "whisk\n"
     ]
    }
   ],
   "source": [
    "kitchen_tools = {\"knife\",\"strainer\",\"blender\",\"saucepan\",\"bowl\",\"whisk\"}\n",
    "for tool in kitchen_tools:\n",
    "    print(tool)\n"
   ]
  },
  {
   "cell_type": "markdown",
   "metadata": {},
   "source": [
    "We can also check if a specified value is in a set"
   ]
  },
  {
   "cell_type": "code",
   "execution_count": 26,
   "metadata": {},
   "outputs": [
    {
     "name": "stdout",
     "output_type": "stream",
     "text": [
      "True\n"
     ]
    }
   ],
   "source": [
    "animals = {\"cat\",\"dog\",\"sheep\",\"cow\",\"pig\"}\n",
    "print(\"cat\" in animals)"
   ]
  },
  {
   "cell_type": "markdown",
   "metadata": {},
   "source": [
    "We can join sets in a few different ways\n",
    "\n",
    "The first method we can use is the union() method"
   ]
  },
  {
   "cell_type": "code",
   "execution_count": 27,
   "metadata": {},
   "outputs": [
    {
     "name": "stdout",
     "output_type": "stream",
     "text": [
      "{'c', 1, 2, 3, 'a', 'b'}\n",
      "{'c', 1, 2, 3, 'a', 'b'}\n"
     ]
    }
   ],
   "source": [
    "letters = {\"a\",\"b\",\"c\"}\n",
    "numbers = {1,2,3}\n",
    "\n",
    "letters_and_numbers = letters.union(numbers)\n",
    "print(letters.union(numbers))\n",
    "print(letters_and_numbers)\n",
    "# Because sets are not ordered, the elements from both sets will be inserted randomly"
   ]
  },
  {
   "cell_type": "markdown",
   "metadata": {},
   "source": [
    "We can also use the update() method, which will insert the items in the second set into the first set"
   ]
  },
  {
   "cell_type": "code",
   "execution_count": 13,
   "metadata": {},
   "outputs": [
    {
     "name": "stdout",
     "output_type": "stream",
     "text": [
      "{'?', '.', '!', '@', '`', '%', ',', '*'}\n"
     ]
    }
   ],
   "source": [
    "symbols = {\"%\",\"@\",\"*\"}\n",
    "punctuation = {\".\",\",\",\"!\",\"?\",\"`\"}\n",
    "\n",
    "symbols.update(punctuation)\n",
    "print(symbols)"
   ]
  },
  {
   "cell_type": "markdown",
   "metadata": {},
   "source": [
    "Two interesting set methods: intersection() and symmetric_difference() method\n",
    "\n",
    "The intersection() method will return a new set that contains items present in two different sets"
   ]
  },
  {
   "cell_type": "code",
   "execution_count": 28,
   "metadata": {},
   "outputs": [
    {
     "name": "stdout",
     "output_type": "stream",
     "text": [
      "None\n"
     ]
    }
   ],
   "source": [
    "animals = {\"lizards\",\"bunnys\",\"rattlesnakes\"}\n",
    "mammals = {\"cats\",\"bunnys\",\"dogs\"}\n",
    "\n",
    "animals_which_are_mammals = animals.intersection(mammals)\n",
    "\n",
    "print(animals_which_are_mammals)\n",
    "\n",
    "# We also have intersection_update()\n",
    "\n",
    "animals = {\"lizards\",\"bunnys\",\"rattlesnakes\"}\n",
    "mammals = {\"cats\",\"bunnys\",\"dogs\"}\n",
    "\n",
    "animals.intersection_update(mammals)\n",
    "print(animals)"
   ]
  },
  {
   "cell_type": "markdown",
   "metadata": {},
   "source": [
    "The symmetric_difference() method will return items not present in two different sets"
   ]
  },
  {
   "cell_type": "code",
   "execution_count": 18,
   "metadata": {},
   "outputs": [
    {
     "name": "stdout",
     "output_type": "stream",
     "text": [
      "None\n",
      "{'Egypt', 'Canada', 'Asia', 'England', 'North America'}\n",
      "{'Canada', 'Egypt', 'Asia', 'England', 'North America'}\n"
     ]
    }
   ],
   "source": [
    "continents = {\"North America\",\"Asia\",\"Australia\"}\n",
    "countrys = {\"England\",\"Canada\",\"Australia\",\"Egypt\"}\n",
    "\n",
    "no_similarities = continents.symmetric_difference(countrys)\n",
    "print(continents.symmetric_difference_update(countrys))\n",
    "print(no_similarities)\n",
    "\n",
    "# Likewise, we also have symmetric_differnce_update()\n",
    "\n",
    "continents = {\"North America\",\"Asia\",\"Australia\"}\n",
    "countrys = {\"England\",\"Canada\",\"Australia\",\"Egypt\"}\n",
    "\n",
    "continents.symmetric_difference_update(countrys)\n",
    "print(continents)"
   ]
  }
 ],
 "metadata": {
  "kernelspec": {
   "display_name": "Python 3.7.9 64-bit",
   "language": "python",
   "name": "python3"
  },
  "language_info": {
   "codemirror_mode": {
    "name": "ipython",
    "version": 3
   },
   "file_extension": ".py",
   "mimetype": "text/x-python",
   "name": "python",
   "nbconvert_exporter": "python",
   "pygments_lexer": "ipython3",
   "version": "3.7.9"
  },
  "orig_nbformat": 4,
  "vscode": {
   "interpreter": {
    "hash": "8fa13260b2ad5da8a92d4362f230c03eee7b3dfd5b47a73cfd4853277a201fcb"
   }
  }
 },
 "nbformat": 4,
 "nbformat_minor": 2
}
