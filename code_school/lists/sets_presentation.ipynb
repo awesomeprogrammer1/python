{
 "cells": [
  {
   "cell_type": "markdown",
   "metadata": {},
   "source": [
    "Sets\n",
    "\n",
    "Sets, similar to lists, are used to store multiple items in a single variable.\n",
    "A set is a collection of elements which is unordered, unchangeable, and unindexed"
   ]
  },
  {
   "cell_type": "code",
   "execution_count": 1,
   "metadata": {},
   "outputs": [
    {
     "name": "stdout",
     "output_type": "stream",
     "text": [
      "{'cherry', 'apple', 'banana'}\n"
     ]
    }
   ],
   "source": [
    "# A Set can't hold duplicate items (items that are the same, for example we can't have\n",
    "# the world \"orange\" appear twice in a set)\n",
    "# 'apple' will only appear once in this set\n",
    "fruits = {\"apple\", \"banana\", \"cherry\", \"apple\"}\n",
    "\n",
    "print(fruits)"
   ]
  },
  {
   "cell_type": "markdown",
   "metadata": {},
   "source": [
    "We can also create a set using the set() constructor like this"
   ]
  },
  {
   "cell_type": "code",
   "execution_count": null,
   "metadata": {},
   "outputs": [],
   "source": [
    "vegetables = set((\"broccoli\",\"zucchini\",\"spinach\"))\n",
    "print(vegetables)"
   ]
  },
  {
   "cell_type": "markdown",
   "metadata": {},
   "source": [
    "Sets are mutable*, however they are not ordered via indexes\n",
    "\n",
    "\n",
    "Note: Set items are immutable, but you can add/remove items"
   ]
  },
  {
   "cell_type": "code",
   "execution_count": 17,
   "metadata": {},
   "outputs": [
    {
     "name": "stdout",
     "output_type": "stream",
     "text": [
      "{'car', 'bus', 'plane', 'train'}\n",
      "{'bus', 'plane', 'train'}\n"
     ]
    },
    {
     "ename": "TypeError",
     "evalue": "'set' object is not subscriptable",
     "output_type": "error",
     "traceback": [
      "\u001b[0;31m---------------------------------------------------------------------------\u001b[0m",
      "\u001b[0;31mTypeError\u001b[0m                                 Traceback (most recent call last)",
      "Cell \u001b[0;32mIn [17], line 8\u001b[0m\n\u001b[1;32m      6\u001b[0m \u001b[39mprint\u001b[39m(transportation)\n\u001b[1;32m      7\u001b[0m \u001b[39m# The following code will raise an exception\u001b[39;00m\n\u001b[0;32m----> 8\u001b[0m \u001b[39mprint\u001b[39m(transportation[\u001b[39m1\u001b[39;49m])\n",
      "\u001b[0;31mTypeError\u001b[0m: 'set' object is not subscriptable"
     ]
    }
   ],
   "source": [
    "# The following code will run properly\n",
    "transportation = {\"train\",\"plane\",\"car\"}\n",
    "transportation.add(\"bus\")\n",
    "print(transportation)\n",
    "transportation.remove(\"car\")\n",
    "print(transportation)\n",
    "# The following code will raise an exception\n",
    "print(transportation[1])"
   ]
  },
  {
   "cell_type": "markdown",
   "metadata": {},
   "source": [
    "We can however, loop through the items in a set using a for loop"
   ]
  },
  {
   "cell_type": "code",
   "execution_count": null,
   "metadata": {},
   "outputs": [],
   "source": [
    "kitchen_tools = {\"knife\",\"strainer\",\"blender\",\"saucepan\",\"bowl\"}\n",
    "for tool in kitchen_tools:\n",
    "    print(tool)"
   ]
  },
  {
   "cell_type": "markdown",
   "metadata": {},
   "source": [
    "We can also check if a specified value is in a set"
   ]
  },
  {
   "cell_type": "code",
   "execution_count": 5,
   "metadata": {},
   "outputs": [
    {
     "name": "stdout",
     "output_type": "stream",
     "text": [
      "{'broccoli', 'zucchini', 'spinach'}\n"
     ]
    }
   ],
   "source": [
    "animals = {\"cat\",\"dog\",\"sheep\",\"cow\",\"pig\"}\n",
    "print(\"cat\" in animals)"
   ]
  },
  {
   "cell_type": "markdown",
   "metadata": {},
   "source": [
    "We can join sets in a few different ways\n",
    "\n",
    "The first method we can use is the union() method"
   ]
  },
  {
   "cell_type": "code",
   "execution_count": 12,
   "metadata": {},
   "outputs": [
    {
     "name": "stdout",
     "output_type": "stream",
     "text": [
      "{1, 2, 'c', 3, 'a', 'b'}\n"
     ]
    }
   ],
   "source": [
    "letters = {\"a\",\"b\",\"c\"}\n",
    "numbers = {1,2,3}\n",
    "\n",
    "letters_and_numbers = letters.union(numbers)\n",
    "print(letters_and_numbers)\n",
    "# Because sets are not ordered, the elements from both sets will be inserted randomly"
   ]
  },
  {
   "cell_type": "markdown",
   "metadata": {},
   "source": [
    "We can also use the update() method, which will insert the items in the second set into the first set"
   ]
  },
  {
   "cell_type": "code",
   "execution_count": 13,
   "metadata": {},
   "outputs": [
    {
     "name": "stdout",
     "output_type": "stream",
     "text": [
      "{'?', '.', '!', '@', '`', '%', ',', '*'}\n"
     ]
    }
   ],
   "source": [
    "symbols = {\"%\",\"@\",\"*\"}\n",
    "punctuation = {\".\",\",\",\"!\",\"?\",\"`\"}\n",
    "\n",
    "symbols.update(punctuation)\n",
    "print(symbols)"
   ]
  },
  {
   "cell_type": "markdown",
   "metadata": {},
   "source": [
    "Two interesting set methods: intersection() and symmetric_difference() method\n",
    "\n",
    "The intersection() method will return a new set that contains items present in two different sets"
   ]
  },
  {
   "cell_type": "code",
   "execution_count": 15,
   "metadata": {},
   "outputs": [
    {
     "name": "stdout",
     "output_type": "stream",
     "text": [
      "{'bunnys'}\n"
     ]
    }
   ],
   "source": [
    "animals = {\"lizards\",\"bunnys\",\"rattlesnakes\"}\n",
    "mammals = {\"cats\",\"bunnys\",\"dogs\"}\n",
    "\n",
    "animals_which_are_mammals = animals.intersection(mammals)\n",
    "\n",
    "print(animals_which_are_mammals)"
   ]
  },
  {
   "cell_type": "markdown",
   "metadata": {},
   "source": [
    "The symmetric_difference() method will return items not present in two different sets"
   ]
  },
  {
   "cell_type": "code",
   "execution_count": 16,
   "metadata": {},
   "outputs": [
    {
     "name": "stdout",
     "output_type": "stream",
     "text": [
      "{'Egypt', 'Canada', 'Asia', 'England', 'North America'}\n"
     ]
    }
   ],
   "source": [
    "continents = {\"North America\",\"Asia\",\"Australia\"}\n",
    "countrys = {\"England\",\"Canada\",\"Australia\",\"Egypt\"}\n",
    "\n",
    "no_similarities = continents.symmetric_difference(countrys)\n",
    "print(no_similarities)"
   ]
  }
 ],
 "metadata": {
  "kernelspec": {
   "display_name": "Python 3.10.8 64-bit",
   "language": "python",
   "name": "python3"
  },
  "language_info": {
   "codemirror_mode": {
    "name": "ipython",
    "version": 3
   },
   "file_extension": ".py",
   "mimetype": "text/x-python",
   "name": "python",
   "nbconvert_exporter": "python",
   "pygments_lexer": "ipython3",
   "version": "3.10.8"
  },
  "orig_nbformat": 4,
  "vscode": {
   "interpreter": {
    "hash": "b0fa6594d8f4cbf19f97940f81e996739fb7646882a419484c72d19e05852a7e"
   }
  }
 },
 "nbformat": 4,
 "nbformat_minor": 2
}
