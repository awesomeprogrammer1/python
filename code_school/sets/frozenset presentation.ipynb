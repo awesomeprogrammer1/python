{
 "cells": [
  {
   "attachments": {},
   "cell_type": "markdown",
   "metadata": {},
   "source": [
    "Frozensets are similar to sets in form of propertys\n",
    "\n",
    "However, unlike sets, you can't change them in any way. This includes adding and deleting. \n",
    "\n",
    "\n",
    "We create a frozenset like this:"
   ]
  },
  {
   "cell_type": "code",
   "execution_count": 2,
   "metadata": {},
   "outputs": [
    {
     "name": "stdout",
     "output_type": "stream",
     "text": [
      "frozenset({'car', 'train'})\n"
     ]
    }
   ],
   "source": [
    "mylist = [\"car\",  \"train\"]\n",
    "x = frozenset(mylist)\n",
    "print(x)"
   ]
  },
  {
   "attachments": {},
   "cell_type": "markdown",
   "metadata": {},
   "source": [
    "We can take any type of data type and simply insert it inside the set\n",
    "\n",
    "The one key difference is that we can no longer change it upon the creation of the frozenset\n",
    "\n",
    "From its form prior to becoming frozen"
   ]
  },
  {
   "attachments": {},
   "cell_type": "markdown",
   "metadata": {},
   "source": [
    "Sets and frozensets are constructed in a similar mannor"
   ]
  },
  {
   "cell_type": "code",
   "execution_count": null,
   "metadata": {},
   "outputs": [],
   "source": [
    "\n",
    "# Comparison of how sets and frozensets are constructed, respectivley\n",
    "# set:\n",
    "x = set([\"cactus\",\"flower\",\"beanstalk\"])\n",
    "print(x)\n",
    "# frozenset:\n",
    "y = frozenset([\"cactus\",\"flower\",\"beanstalk\"])\n",
    "print(y)\n"
   ]
  },
  {
   "attachments": {},
   "cell_type": "markdown",
   "metadata": {},
   "source": [
    "We can perform certain operations on frozensets that are also performed on regular sets\n",
    "\n",
    "Such as symmetric_difference, union, difference etc.\n",
    "\n",
    "But note that operations like symmetric_difference_update will not work on frozensets\n",
    "\n",
    "As they are an immutable data type"
   ]
  },
  {
   "cell_type": "code",
   "execution_count": 4,
   "metadata": {},
   "outputs": [
    {
     "name": "stdout",
     "output_type": "stream",
     "text": [
      "frozenset({'cars', 'bushes', 'flowers'})\n"
     ]
    },
    {
     "ename": "AttributeError",
     "evalue": "'frozenset' object has no attribute 'symmetric_difference_update'",
     "output_type": "error",
     "traceback": [
      "\u001b[0;31m---------------------------------------------------------------------------\u001b[0m",
      "\u001b[0;31mAttributeError\u001b[0m                            Traceback (most recent call last)",
      "Cell \u001b[0;32mIn [4], line 6\u001b[0m\n\u001b[1;32m      4\u001b[0m \u001b[39mprint\u001b[39m(similarity)\n\u001b[1;32m      5\u001b[0m \u001b[39m# the following line will raise an exception\u001b[39;00m\n\u001b[0;32m----> 6\u001b[0m plants\u001b[39m.\u001b[39;49msymmetric_difference_update(has_trunk)\n",
      "\u001b[0;31mAttributeError\u001b[0m: 'frozenset' object has no attribute 'symmetric_difference_update'"
     ]
    }
   ],
   "source": [
    "plants = frozenset([\"trees\",\"bushes\",\"flowers\"])\n",
    "has_trunk = frozenset([\"trees\",\"cars\"])\n",
    "similarity = plants.symmetric_difference(has_trunk)\n",
    "print(similarity)\n",
    "# the following line will raise an exception\n",
    "plants.symmetric_difference_update(has_trunk)"
   ]
  }
 ],
 "metadata": {
  "kernelspec": {
   "display_name": "Python 3.10.8 64-bit",
   "language": "python",
   "name": "python3"
  },
  "language_info": {
   "codemirror_mode": {
    "name": "ipython",
    "version": 3
   },
   "file_extension": ".py",
   "mimetype": "text/x-python",
   "name": "python",
   "nbconvert_exporter": "python",
   "pygments_lexer": "ipython3",
   "version": "3.10.8"
  },
  "orig_nbformat": 4,
  "vscode": {
   "interpreter": {
    "hash": "b0fa6594d8f4cbf19f97940f81e996739fb7646882a419484c72d19e05852a7e"
   }
  }
 },
 "nbformat": 4,
 "nbformat_minor": 2
}
