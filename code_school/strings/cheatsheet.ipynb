{
 "cells": [
  {
   "cell_type": "markdown",
   "metadata": {},
   "source": [
    "Method `split(s)` separates string `s` by a certain character and returns a list seperated by the given seperator"
   ]
  },
  {
   "cell_type": "code",
   "execution_count": 4,
   "metadata": {},
   "outputs": [
    {
     "name": "stdout",
     "output_type": "stream",
     "text": [
      "2\n"
     ]
    }
   ],
   "source": [
    "string_var = \"Hello, World!\"\n",
    "print(string_var.split(\",\")) "
   ]
  },
  {
   "cell_type": "markdown",
   "metadata": {},
   "source": [
    "method `join(s)` takes all items in `s` and joins them into one string (a string must be specified as the seperator)"
   ]
  },
  {
   "cell_type": "code",
   "execution_count": 7,
   "metadata": {},
   "outputs": [
    {
     "name": "stdout",
     "output_type": "stream",
     "text": [
      "['Hello', ' World!']\n"
     ]
    }
   ],
   "source": [
    "Tuple_Var = (\"Andrew\", \"Sergei\", \"Sasha\")\n",
    "a = \"!\".join(Tuple_Var)\n",
    "print(a)"
   ]
  },
  {
   "cell_type": "markdown",
   "metadata": {},
   "source": [
    "Method `index(substring)` return returns the index of `substring` (where it is first found, starting from the left)"
   ]
  },
  {
   "cell_type": "code",
   "execution_count": 8,
   "metadata": {},
   "outputs": [
    {
     "name": "stdout",
     "output_type": "stream",
     "text": [
      "Andrew!Sergei!Sasha\n"
     ]
    }
   ],
   "source": [
    "string_var = \"Hello, World!\"\n",
    "print(string_var.index(\"l\"))"
   ]
  },
  {
   "cell_type": "markdown",
   "metadata": {},
   "source": [
    "method `lower(s)` returns a lowercase copy of the string"
   ]
  },
  {
   "cell_type": "code",
   "execution_count": null,
   "metadata": {},
   "outputs": [],
   "source": [
    "print(string_var.lower())"
   ]
  },
  {
   "cell_type": "markdown",
   "metadata": {},
   "source": [
    "method `upper(s)` returns a copy of the string that is all upper case"
   ]
  },
  {
   "cell_type": "code",
   "execution_count": null,
   "metadata": {},
   "outputs": [],
   "source": [
    "print(string_var.upper()) "
   ]
  },
  {
   "cell_type": "markdown",
   "metadata": {},
   "source": [
    "method `split(s)` returns a list with the seperated string"
   ]
  },
  {
   "cell_type": "code",
   "execution_count": 10,
   "metadata": {},
   "outputs": [
    {
     "name": "stdout",
     "output_type": "stream",
     "text": [
      "['Hello', ' World!']\n"
     ]
    }
   ],
   "source": [
    "print(string_var.split(\",\"))"
   ]
  },
  {
   "cell_type": "markdown",
   "metadata": {},
   "source": [
    "method `strip(s)` creates a copy of the string without (a) certain character(s)"
   ]
  },
  {
   "cell_type": "code",
   "execution_count": null,
   "metadata": {},
   "outputs": [],
   "source": [
    "print(string_var.strip(\"H\"))"
   ]
  },
  {
   "cell_type": "markdown",
   "metadata": {},
   "source": [
    "method `replace(a, b)` returns a copy of the string with the substituted character(s) given"
   ]
  },
  {
   "cell_type": "code",
   "execution_count": null,
   "metadata": {},
   "outputs": [],
   "source": [
    "print(string_var.replace(\"H\", \"J\")) "
   ]
  },
  {
   "cell_type": "markdown",
   "metadata": {},
   "source": [
    "method `capitolize()` makes the first letter capitolized, and the rest lowercase"
   ]
  },
  {
   "cell_type": "code",
   "execution_count": null,
   "metadata": {},
   "outputs": [],
   "source": [
    "print(string_var.capitalize())"
   ]
  },
  {
   "cell_type": "markdown",
   "metadata": {},
   "source": [
    "method casefold basically just another version of lower(), but more strict. For example, `.lower()` recognizes ß as lowercase, but casefold does not.\n"
   ]
  },
  {
   "cell_type": "code",
   "execution_count": null,
   "metadata": {},
   "outputs": [],
   "source": [
    "print(string_var.casefold())"
   ]
  },
  {
   "cell_type": "markdown",
   "metadata": {},
   "source": [
    "method `rindex(s)` finds how far the given character (if there are duplicates, it takes the first one found)/ rindex starts from the end of the string"
   ]
  },
  {
   "cell_type": "code",
   "execution_count": 11,
   "metadata": {},
   "outputs": [
    {
     "name": "stdout",
     "output_type": "stream",
     "text": [
      "10\n"
     ]
    }
   ],
   "source": [
    "print(string_var.rindex(\"l\"))"
   ]
  },
  {
   "cell_type": "markdown",
   "metadata": {},
   "source": [
    "method `swapcase()` self explainitory: converts upper case to lower case and vice versa"
   ]
  },
  {
   "cell_type": "code",
   "execution_count": null,
   "metadata": {},
   "outputs": [],
   "source": [
    "print(string_var.swapcase()) "
   ]
  },
  {
   "cell_type": "markdown",
   "metadata": {},
   "source": [
    "method `format()` makes the first letter in each word upper case in the given string"
   ]
  },
  {
   "cell_type": "code",
   "execution_count": null,
   "metadata": {},
   "outputs": [],
   "source": [
    "print(string_var.format())"
   ]
  },
  {
   "cell_type": "markdown",
   "metadata": {},
   "source": [
    "method `partition(#)` seperates the string into parts by a given character. The difference between split and partition is that split returns a list, while partition returns a tuple."
   ]
  },
  {
   "cell_type": "code",
   "execution_count": null,
   "metadata": {},
   "outputs": [],
   "source": [
    "print(string_var.partition(\"l\")) "
   ]
  },
  {
   "cell_type": "markdown",
   "metadata": {},
   "source": [
    "function `len()` returns the amount of items in the string or list in question"
   ]
  },
  {
   "cell_type": "code",
   "execution_count": null,
   "metadata": {},
   "outputs": [],
   "source": [
    "print(len(string_var)) "
   ]
  },
  {
   "cell_type": "markdown",
   "metadata": {},
   "source": [
    "method `isupper()`, `islower()`, and `istitle()`: all of these methods return True/False (bool) for istitle, we can normally print it out"
   ]
  },
  {
   "cell_type": "code",
   "execution_count": null,
   "metadata": {},
   "outputs": [],
   "source": [
    "string_var_txt = string_var.istitle()\n",
    "print(string_var_txt) "
   ]
  },
  {
   "cell_type": "markdown",
   "metadata": {},
   "source": [
    "for isupper and islower, we can use a for loop to better demonstrate the capabilities"
   ]
  },
  {
   "cell_type": "code",
   "execution_count": null,
   "metadata": {},
   "outputs": [],
   "source": [
    "for element in string_var:\n",
    "    element_upper = element.isupper()\n",
    "    element_lower = element.islower()\n",
    "    if element_upper is True:\n",
    "        print(\"Letter is upper case\")\n",
    "    if element_lower is True:\n",
    "        print(\"Letter is lower case\")"
   ]
  }
 ],
 "metadata": {
  "kernelspec": {
   "display_name": "Python 3.7.9 64-bit",
   "language": "python",
   "name": "python3"
  },
  "language_info": {
   "codemirror_mode": {
    "name": "ipython",
    "version": 3
   },
   "file_extension": ".py",
   "mimetype": "text/x-python",
   "name": "python",
   "nbconvert_exporter": "python",
   "pygments_lexer": "ipython3",
   "version": "3.7.9"
  },
  "orig_nbformat": 4,
  "vscode": {
   "interpreter": {
    "hash": "8fa13260b2ad5da8a92d4362f230c03eee7b3dfd5b47a73cfd4853277a201fcb"
   }
  }
 },
 "nbformat": 4,
 "nbformat_minor": 2
}
