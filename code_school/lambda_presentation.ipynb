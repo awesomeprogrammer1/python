{
 "cells": [
  {
   "cell_type": "markdown",
   "metadata": {},
   "source": [
    "Lambda is an anonymus function\n",
    "\n",
    "That is primarily used inside other functions"
   ]
  },
  {
   "cell_type": "code",
   "execution_count": 1,
   "metadata": {},
   "outputs": [
    {
     "name": "stdout",
     "output_type": "stream",
     "text": [
      "4\n"
     ]
    }
   ],
   "source": [
    "# example of lambda function\n",
    "lambda_func = lambda a: a * 2\n",
    "# creates parameter a\n",
    "print(lambda_func(2))"
   ]
  },
  {
   "cell_type": "markdown",
   "metadata": {},
   "source": [
    "We use lambda when we need a function to do simple operations\n",
    "\n",
    "Since it is unideal to use a normal function for this\n",
    "\n",
    "These operations typically only consist of one line\n"
   ]
  },
  {
   "cell_type": "code",
   "execution_count": null,
   "metadata": {},
   "outputs": [],
   "source": [
    "hi = lambda : print(\"Hello\")\n",
    "# creating lambda\n",
    "hi()\n",
    "# calling the variable assigned to the lambda function"
   ]
  },
  {
   "cell_type": "markdown",
   "metadata": {},
   "source": [
    "Some examples of usage:"
   ]
  },
  {
   "cell_type": "code",
   "execution_count": 2,
   "metadata": {},
   "outputs": [
    {
     "name": "stdout",
     "output_type": "stream",
     "text": [
      "45\n"
     ]
    }
   ],
   "source": [
    "# Example of typical usage\n",
    "def cool_func(n):\n",
    "    return lambda a : a * n\n",
    "    # call lambda\n",
    "multiply_by = int(input(\"Input a number to multiply 5 by\"))\n",
    "multiplier = cool_func(multiply_by)\n",
    "# assigns parameter a of lambda to \"multiplier\" variable\n",
    "print(multiplier(5))"
   ]
  },
  {
   "cell_type": "markdown",
   "metadata": {},
   "source": [
    "Another Example"
   ]
  },
  {
   "cell_type": "code",
   "execution_count": 16,
   "metadata": {},
   "outputs": [
    {
     "data": {
      "text/plain": [
       "[{'first': 'Alan', 'last': 'Turing', 'YOB': 1912},\n",
       " {'first': 'Grace', 'last': 'Hopper', 'YOB': 1906},\n",
       " {'first': 'Guido', 'last': 'Van Rossum', 'YOB': 1956}]"
      ]
     },
     "execution_count": 16,
     "metadata": {},
     "output_type": "execute_result"
    }
   ],
   "source": [
    "data = [{'first':'Guido', 'last':'Van Rossum', 'YOB':1956},\n",
    "        {'first':'Grace', 'last':'Hopper',     'YOB':1906},\n",
    "        {'first':'Alan',  'last':'Turing',     'YOB':1912}]\n",
    "# However Dictionaries are not orderable, so...\n",
    "\"-----------------------------------------------------------------------------\"\n",
    "# sort alphabetically by first name\n",
    "sorted(data, key=lambda item: item['first'])\n",
    "# This is much more convenient\n",
    "# Regular function\n",
    "\n",
    "# Source: Whirlwind Tour of Python repository"
   ]
  },
  {
   "cell_type": "markdown",
   "metadata": {},
   "source": [
    "We can only do this above operation with a lambda function only because one of our modules in 'sorted' needs a callback such as map(), filter() or reduce(). \n",
    "We also use lambda functions since we can call a lambda function in the same line it was defined, something we cant do with 'def'."
   ]
  }
 ],
 "metadata": {
  "kernelspec": {
   "display_name": "Python 3.7.9 64-bit",
   "language": "python",
   "name": "python3"
  },
  "language_info": {
   "codemirror_mode": {
    "name": "ipython",
    "version": 3
   },
   "file_extension": ".py",
   "mimetype": "text/x-python",
   "name": "python",
   "nbconvert_exporter": "python",
   "pygments_lexer": "ipython3",
   "version": "3.7.9"
  },
  "orig_nbformat": 4,
  "vscode": {
   "interpreter": {
    "hash": "8fa13260b2ad5da8a92d4362f230c03eee7b3dfd5b47a73cfd4853277a201fcb"
   }
  }
 },
 "nbformat": 4,
 "nbformat_minor": 2
}
